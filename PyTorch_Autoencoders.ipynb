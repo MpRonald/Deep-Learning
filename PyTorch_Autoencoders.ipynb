{
  "nbformat": 4,
  "nbformat_minor": 0,
  "metadata": {
    "colab": {
      "name": "PyTorch_Autoencoders.ipynb",
      "provenance": [],
      "collapsed_sections": [],
      "authorship_tag": "ABX9TyP0AGn/EyZHX63fDSqnUZNo",
      "include_colab_link": true
    },
    "kernelspec": {
      "name": "python3",
      "display_name": "Python 3"
    },
    "language_info": {
      "name": "python"
    },
    "widgets": {
      "application/vnd.jupyter.widget-state+json": {
        "847f458c028c46bdbde1c0cdd1efe9d5": {
          "model_module": "@jupyter-widgets/controls",
          "model_name": "HBoxModel",
          "model_module_version": "1.5.0",
          "state": {
            "_dom_classes": [],
            "_model_module": "@jupyter-widgets/controls",
            "_model_module_version": "1.5.0",
            "_model_name": "HBoxModel",
            "_view_count": null,
            "_view_module": "@jupyter-widgets/controls",
            "_view_module_version": "1.5.0",
            "_view_name": "HBoxView",
            "box_style": "",
            "children": [
              "IPY_MODEL_296cfda36716405f85da8b02af876dcc",
              "IPY_MODEL_77a7cc5bff0b45f0b976bd8980124576",
              "IPY_MODEL_10c5c09874954bca8d55cdbc0580aba6"
            ],
            "layout": "IPY_MODEL_60c1999cb5f54788b9cfc8b7fc662ac8"
          }
        },
        "296cfda36716405f85da8b02af876dcc": {
          "model_module": "@jupyter-widgets/controls",
          "model_name": "HTMLModel",
          "model_module_version": "1.5.0",
          "state": {
            "_dom_classes": [],
            "_model_module": "@jupyter-widgets/controls",
            "_model_module_version": "1.5.0",
            "_model_name": "HTMLModel",
            "_view_count": null,
            "_view_module": "@jupyter-widgets/controls",
            "_view_module_version": "1.5.0",
            "_view_name": "HTMLView",
            "description": "",
            "description_tooltip": null,
            "layout": "IPY_MODEL_bad8c86486084d2590ab6c14ec68cf41",
            "placeholder": "​",
            "style": "IPY_MODEL_37494a90564344f3a0ddda448d4042c9",
            "value": "100%"
          }
        },
        "77a7cc5bff0b45f0b976bd8980124576": {
          "model_module": "@jupyter-widgets/controls",
          "model_name": "FloatProgressModel",
          "model_module_version": "1.5.0",
          "state": {
            "_dom_classes": [],
            "_model_module": "@jupyter-widgets/controls",
            "_model_module_version": "1.5.0",
            "_model_name": "FloatProgressModel",
            "_view_count": null,
            "_view_module": "@jupyter-widgets/controls",
            "_view_module_version": "1.5.0",
            "_view_name": "ProgressView",
            "bar_style": "success",
            "description": "",
            "description_tooltip": null,
            "layout": "IPY_MODEL_993f1729e49a404c93adc4bb5f50f155",
            "max": 9912422,
            "min": 0,
            "orientation": "horizontal",
            "style": "IPY_MODEL_dc9da8a13f494fc7ac53b430eb39cac2",
            "value": 9912422
          }
        },
        "10c5c09874954bca8d55cdbc0580aba6": {
          "model_module": "@jupyter-widgets/controls",
          "model_name": "HTMLModel",
          "model_module_version": "1.5.0",
          "state": {
            "_dom_classes": [],
            "_model_module": "@jupyter-widgets/controls",
            "_model_module_version": "1.5.0",
            "_model_name": "HTMLModel",
            "_view_count": null,
            "_view_module": "@jupyter-widgets/controls",
            "_view_module_version": "1.5.0",
            "_view_name": "HTMLView",
            "description": "",
            "description_tooltip": null,
            "layout": "IPY_MODEL_c67e8173c1ca4131a5558a981206db94",
            "placeholder": "​",
            "style": "IPY_MODEL_d91944add94b454ebe06bc6c8cb613ea",
            "value": " 9912422/9912422 [00:00&lt;00:00, 53032498.31it/s]"
          }
        },
        "60c1999cb5f54788b9cfc8b7fc662ac8": {
          "model_module": "@jupyter-widgets/base",
          "model_name": "LayoutModel",
          "model_module_version": "1.2.0",
          "state": {
            "_model_module": "@jupyter-widgets/base",
            "_model_module_version": "1.2.0",
            "_model_name": "LayoutModel",
            "_view_count": null,
            "_view_module": "@jupyter-widgets/base",
            "_view_module_version": "1.2.0",
            "_view_name": "LayoutView",
            "align_content": null,
            "align_items": null,
            "align_self": null,
            "border": null,
            "bottom": null,
            "display": null,
            "flex": null,
            "flex_flow": null,
            "grid_area": null,
            "grid_auto_columns": null,
            "grid_auto_flow": null,
            "grid_auto_rows": null,
            "grid_column": null,
            "grid_gap": null,
            "grid_row": null,
            "grid_template_areas": null,
            "grid_template_columns": null,
            "grid_template_rows": null,
            "height": null,
            "justify_content": null,
            "justify_items": null,
            "left": null,
            "margin": null,
            "max_height": null,
            "max_width": null,
            "min_height": null,
            "min_width": null,
            "object_fit": null,
            "object_position": null,
            "order": null,
            "overflow": null,
            "overflow_x": null,
            "overflow_y": null,
            "padding": null,
            "right": null,
            "top": null,
            "visibility": null,
            "width": null
          }
        },
        "bad8c86486084d2590ab6c14ec68cf41": {
          "model_module": "@jupyter-widgets/base",
          "model_name": "LayoutModel",
          "model_module_version": "1.2.0",
          "state": {
            "_model_module": "@jupyter-widgets/base",
            "_model_module_version": "1.2.0",
            "_model_name": "LayoutModel",
            "_view_count": null,
            "_view_module": "@jupyter-widgets/base",
            "_view_module_version": "1.2.0",
            "_view_name": "LayoutView",
            "align_content": null,
            "align_items": null,
            "align_self": null,
            "border": null,
            "bottom": null,
            "display": null,
            "flex": null,
            "flex_flow": null,
            "grid_area": null,
            "grid_auto_columns": null,
            "grid_auto_flow": null,
            "grid_auto_rows": null,
            "grid_column": null,
            "grid_gap": null,
            "grid_row": null,
            "grid_template_areas": null,
            "grid_template_columns": null,
            "grid_template_rows": null,
            "height": null,
            "justify_content": null,
            "justify_items": null,
            "left": null,
            "margin": null,
            "max_height": null,
            "max_width": null,
            "min_height": null,
            "min_width": null,
            "object_fit": null,
            "object_position": null,
            "order": null,
            "overflow": null,
            "overflow_x": null,
            "overflow_y": null,
            "padding": null,
            "right": null,
            "top": null,
            "visibility": null,
            "width": null
          }
        },
        "37494a90564344f3a0ddda448d4042c9": {
          "model_module": "@jupyter-widgets/controls",
          "model_name": "DescriptionStyleModel",
          "model_module_version": "1.5.0",
          "state": {
            "_model_module": "@jupyter-widgets/controls",
            "_model_module_version": "1.5.0",
            "_model_name": "DescriptionStyleModel",
            "_view_count": null,
            "_view_module": "@jupyter-widgets/base",
            "_view_module_version": "1.2.0",
            "_view_name": "StyleView",
            "description_width": ""
          }
        },
        "993f1729e49a404c93adc4bb5f50f155": {
          "model_module": "@jupyter-widgets/base",
          "model_name": "LayoutModel",
          "model_module_version": "1.2.0",
          "state": {
            "_model_module": "@jupyter-widgets/base",
            "_model_module_version": "1.2.0",
            "_model_name": "LayoutModel",
            "_view_count": null,
            "_view_module": "@jupyter-widgets/base",
            "_view_module_version": "1.2.0",
            "_view_name": "LayoutView",
            "align_content": null,
            "align_items": null,
            "align_self": null,
            "border": null,
            "bottom": null,
            "display": null,
            "flex": null,
            "flex_flow": null,
            "grid_area": null,
            "grid_auto_columns": null,
            "grid_auto_flow": null,
            "grid_auto_rows": null,
            "grid_column": null,
            "grid_gap": null,
            "grid_row": null,
            "grid_template_areas": null,
            "grid_template_columns": null,
            "grid_template_rows": null,
            "height": null,
            "justify_content": null,
            "justify_items": null,
            "left": null,
            "margin": null,
            "max_height": null,
            "max_width": null,
            "min_height": null,
            "min_width": null,
            "object_fit": null,
            "object_position": null,
            "order": null,
            "overflow": null,
            "overflow_x": null,
            "overflow_y": null,
            "padding": null,
            "right": null,
            "top": null,
            "visibility": null,
            "width": null
          }
        },
        "dc9da8a13f494fc7ac53b430eb39cac2": {
          "model_module": "@jupyter-widgets/controls",
          "model_name": "ProgressStyleModel",
          "model_module_version": "1.5.0",
          "state": {
            "_model_module": "@jupyter-widgets/controls",
            "_model_module_version": "1.5.0",
            "_model_name": "ProgressStyleModel",
            "_view_count": null,
            "_view_module": "@jupyter-widgets/base",
            "_view_module_version": "1.2.0",
            "_view_name": "StyleView",
            "bar_color": null,
            "description_width": ""
          }
        },
        "c67e8173c1ca4131a5558a981206db94": {
          "model_module": "@jupyter-widgets/base",
          "model_name": "LayoutModel",
          "model_module_version": "1.2.0",
          "state": {
            "_model_module": "@jupyter-widgets/base",
            "_model_module_version": "1.2.0",
            "_model_name": "LayoutModel",
            "_view_count": null,
            "_view_module": "@jupyter-widgets/base",
            "_view_module_version": "1.2.0",
            "_view_name": "LayoutView",
            "align_content": null,
            "align_items": null,
            "align_self": null,
            "border": null,
            "bottom": null,
            "display": null,
            "flex": null,
            "flex_flow": null,
            "grid_area": null,
            "grid_auto_columns": null,
            "grid_auto_flow": null,
            "grid_auto_rows": null,
            "grid_column": null,
            "grid_gap": null,
            "grid_row": null,
            "grid_template_areas": null,
            "grid_template_columns": null,
            "grid_template_rows": null,
            "height": null,
            "justify_content": null,
            "justify_items": null,
            "left": null,
            "margin": null,
            "max_height": null,
            "max_width": null,
            "min_height": null,
            "min_width": null,
            "object_fit": null,
            "object_position": null,
            "order": null,
            "overflow": null,
            "overflow_x": null,
            "overflow_y": null,
            "padding": null,
            "right": null,
            "top": null,
            "visibility": null,
            "width": null
          }
        },
        "d91944add94b454ebe06bc6c8cb613ea": {
          "model_module": "@jupyter-widgets/controls",
          "model_name": "DescriptionStyleModel",
          "model_module_version": "1.5.0",
          "state": {
            "_model_module": "@jupyter-widgets/controls",
            "_model_module_version": "1.5.0",
            "_model_name": "DescriptionStyleModel",
            "_view_count": null,
            "_view_module": "@jupyter-widgets/base",
            "_view_module_version": "1.2.0",
            "_view_name": "StyleView",
            "description_width": ""
          }
        },
        "17df8bc9ea5240fb8a0a23153a2535b0": {
          "model_module": "@jupyter-widgets/controls",
          "model_name": "HBoxModel",
          "model_module_version": "1.5.0",
          "state": {
            "_dom_classes": [],
            "_model_module": "@jupyter-widgets/controls",
            "_model_module_version": "1.5.0",
            "_model_name": "HBoxModel",
            "_view_count": null,
            "_view_module": "@jupyter-widgets/controls",
            "_view_module_version": "1.5.0",
            "_view_name": "HBoxView",
            "box_style": "",
            "children": [
              "IPY_MODEL_8441339aec1140d9a3d18936f2c2e8f6",
              "IPY_MODEL_d6b217236f7841889ebd3791600aab05",
              "IPY_MODEL_9b33f21f55194e6f8b65d44a222c2451"
            ],
            "layout": "IPY_MODEL_4c93b086cf3f4b619ae3575364585668"
          }
        },
        "8441339aec1140d9a3d18936f2c2e8f6": {
          "model_module": "@jupyter-widgets/controls",
          "model_name": "HTMLModel",
          "model_module_version": "1.5.0",
          "state": {
            "_dom_classes": [],
            "_model_module": "@jupyter-widgets/controls",
            "_model_module_version": "1.5.0",
            "_model_name": "HTMLModel",
            "_view_count": null,
            "_view_module": "@jupyter-widgets/controls",
            "_view_module_version": "1.5.0",
            "_view_name": "HTMLView",
            "description": "",
            "description_tooltip": null,
            "layout": "IPY_MODEL_8dcd53ac45854286844dae73f41b5805",
            "placeholder": "​",
            "style": "IPY_MODEL_5ccfa6f2692a403895d4191ddcfe8575",
            "value": "100%"
          }
        },
        "d6b217236f7841889ebd3791600aab05": {
          "model_module": "@jupyter-widgets/controls",
          "model_name": "FloatProgressModel",
          "model_module_version": "1.5.0",
          "state": {
            "_dom_classes": [],
            "_model_module": "@jupyter-widgets/controls",
            "_model_module_version": "1.5.0",
            "_model_name": "FloatProgressModel",
            "_view_count": null,
            "_view_module": "@jupyter-widgets/controls",
            "_view_module_version": "1.5.0",
            "_view_name": "ProgressView",
            "bar_style": "success",
            "description": "",
            "description_tooltip": null,
            "layout": "IPY_MODEL_04f0f34353474f1bbbecc2cf211330b8",
            "max": 28881,
            "min": 0,
            "orientation": "horizontal",
            "style": "IPY_MODEL_e1f1b31f0f664d79a89b991b1f08551b",
            "value": 28881
          }
        },
        "9b33f21f55194e6f8b65d44a222c2451": {
          "model_module": "@jupyter-widgets/controls",
          "model_name": "HTMLModel",
          "model_module_version": "1.5.0",
          "state": {
            "_dom_classes": [],
            "_model_module": "@jupyter-widgets/controls",
            "_model_module_version": "1.5.0",
            "_model_name": "HTMLModel",
            "_view_count": null,
            "_view_module": "@jupyter-widgets/controls",
            "_view_module_version": "1.5.0",
            "_view_name": "HTMLView",
            "description": "",
            "description_tooltip": null,
            "layout": "IPY_MODEL_6df8288006a4492e83f7e264b4793dca",
            "placeholder": "​",
            "style": "IPY_MODEL_92df6f80c5794d3badbac484ed719415",
            "value": " 28881/28881 [00:00&lt;00:00, 784786.33it/s]"
          }
        },
        "4c93b086cf3f4b619ae3575364585668": {
          "model_module": "@jupyter-widgets/base",
          "model_name": "LayoutModel",
          "model_module_version": "1.2.0",
          "state": {
            "_model_module": "@jupyter-widgets/base",
            "_model_module_version": "1.2.0",
            "_model_name": "LayoutModel",
            "_view_count": null,
            "_view_module": "@jupyter-widgets/base",
            "_view_module_version": "1.2.0",
            "_view_name": "LayoutView",
            "align_content": null,
            "align_items": null,
            "align_self": null,
            "border": null,
            "bottom": null,
            "display": null,
            "flex": null,
            "flex_flow": null,
            "grid_area": null,
            "grid_auto_columns": null,
            "grid_auto_flow": null,
            "grid_auto_rows": null,
            "grid_column": null,
            "grid_gap": null,
            "grid_row": null,
            "grid_template_areas": null,
            "grid_template_columns": null,
            "grid_template_rows": null,
            "height": null,
            "justify_content": null,
            "justify_items": null,
            "left": null,
            "margin": null,
            "max_height": null,
            "max_width": null,
            "min_height": null,
            "min_width": null,
            "object_fit": null,
            "object_position": null,
            "order": null,
            "overflow": null,
            "overflow_x": null,
            "overflow_y": null,
            "padding": null,
            "right": null,
            "top": null,
            "visibility": null,
            "width": null
          }
        },
        "8dcd53ac45854286844dae73f41b5805": {
          "model_module": "@jupyter-widgets/base",
          "model_name": "LayoutModel",
          "model_module_version": "1.2.0",
          "state": {
            "_model_module": "@jupyter-widgets/base",
            "_model_module_version": "1.2.0",
            "_model_name": "LayoutModel",
            "_view_count": null,
            "_view_module": "@jupyter-widgets/base",
            "_view_module_version": "1.2.0",
            "_view_name": "LayoutView",
            "align_content": null,
            "align_items": null,
            "align_self": null,
            "border": null,
            "bottom": null,
            "display": null,
            "flex": null,
            "flex_flow": null,
            "grid_area": null,
            "grid_auto_columns": null,
            "grid_auto_flow": null,
            "grid_auto_rows": null,
            "grid_column": null,
            "grid_gap": null,
            "grid_row": null,
            "grid_template_areas": null,
            "grid_template_columns": null,
            "grid_template_rows": null,
            "height": null,
            "justify_content": null,
            "justify_items": null,
            "left": null,
            "margin": null,
            "max_height": null,
            "max_width": null,
            "min_height": null,
            "min_width": null,
            "object_fit": null,
            "object_position": null,
            "order": null,
            "overflow": null,
            "overflow_x": null,
            "overflow_y": null,
            "padding": null,
            "right": null,
            "top": null,
            "visibility": null,
            "width": null
          }
        },
        "5ccfa6f2692a403895d4191ddcfe8575": {
          "model_module": "@jupyter-widgets/controls",
          "model_name": "DescriptionStyleModel",
          "model_module_version": "1.5.0",
          "state": {
            "_model_module": "@jupyter-widgets/controls",
            "_model_module_version": "1.5.0",
            "_model_name": "DescriptionStyleModel",
            "_view_count": null,
            "_view_module": "@jupyter-widgets/base",
            "_view_module_version": "1.2.0",
            "_view_name": "StyleView",
            "description_width": ""
          }
        },
        "04f0f34353474f1bbbecc2cf211330b8": {
          "model_module": "@jupyter-widgets/base",
          "model_name": "LayoutModel",
          "model_module_version": "1.2.0",
          "state": {
            "_model_module": "@jupyter-widgets/base",
            "_model_module_version": "1.2.0",
            "_model_name": "LayoutModel",
            "_view_count": null,
            "_view_module": "@jupyter-widgets/base",
            "_view_module_version": "1.2.0",
            "_view_name": "LayoutView",
            "align_content": null,
            "align_items": null,
            "align_self": null,
            "border": null,
            "bottom": null,
            "display": null,
            "flex": null,
            "flex_flow": null,
            "grid_area": null,
            "grid_auto_columns": null,
            "grid_auto_flow": null,
            "grid_auto_rows": null,
            "grid_column": null,
            "grid_gap": null,
            "grid_row": null,
            "grid_template_areas": null,
            "grid_template_columns": null,
            "grid_template_rows": null,
            "height": null,
            "justify_content": null,
            "justify_items": null,
            "left": null,
            "margin": null,
            "max_height": null,
            "max_width": null,
            "min_height": null,
            "min_width": null,
            "object_fit": null,
            "object_position": null,
            "order": null,
            "overflow": null,
            "overflow_x": null,
            "overflow_y": null,
            "padding": null,
            "right": null,
            "top": null,
            "visibility": null,
            "width": null
          }
        },
        "e1f1b31f0f664d79a89b991b1f08551b": {
          "model_module": "@jupyter-widgets/controls",
          "model_name": "ProgressStyleModel",
          "model_module_version": "1.5.0",
          "state": {
            "_model_module": "@jupyter-widgets/controls",
            "_model_module_version": "1.5.0",
            "_model_name": "ProgressStyleModel",
            "_view_count": null,
            "_view_module": "@jupyter-widgets/base",
            "_view_module_version": "1.2.0",
            "_view_name": "StyleView",
            "bar_color": null,
            "description_width": ""
          }
        },
        "6df8288006a4492e83f7e264b4793dca": {
          "model_module": "@jupyter-widgets/base",
          "model_name": "LayoutModel",
          "model_module_version": "1.2.0",
          "state": {
            "_model_module": "@jupyter-widgets/base",
            "_model_module_version": "1.2.0",
            "_model_name": "LayoutModel",
            "_view_count": null,
            "_view_module": "@jupyter-widgets/base",
            "_view_module_version": "1.2.0",
            "_view_name": "LayoutView",
            "align_content": null,
            "align_items": null,
            "align_self": null,
            "border": null,
            "bottom": null,
            "display": null,
            "flex": null,
            "flex_flow": null,
            "grid_area": null,
            "grid_auto_columns": null,
            "grid_auto_flow": null,
            "grid_auto_rows": null,
            "grid_column": null,
            "grid_gap": null,
            "grid_row": null,
            "grid_template_areas": null,
            "grid_template_columns": null,
            "grid_template_rows": null,
            "height": null,
            "justify_content": null,
            "justify_items": null,
            "left": null,
            "margin": null,
            "max_height": null,
            "max_width": null,
            "min_height": null,
            "min_width": null,
            "object_fit": null,
            "object_position": null,
            "order": null,
            "overflow": null,
            "overflow_x": null,
            "overflow_y": null,
            "padding": null,
            "right": null,
            "top": null,
            "visibility": null,
            "width": null
          }
        },
        "92df6f80c5794d3badbac484ed719415": {
          "model_module": "@jupyter-widgets/controls",
          "model_name": "DescriptionStyleModel",
          "model_module_version": "1.5.0",
          "state": {
            "_model_module": "@jupyter-widgets/controls",
            "_model_module_version": "1.5.0",
            "_model_name": "DescriptionStyleModel",
            "_view_count": null,
            "_view_module": "@jupyter-widgets/base",
            "_view_module_version": "1.2.0",
            "_view_name": "StyleView",
            "description_width": ""
          }
        },
        "fba66812ef284590ab2fce06b3a3f8f3": {
          "model_module": "@jupyter-widgets/controls",
          "model_name": "HBoxModel",
          "model_module_version": "1.5.0",
          "state": {
            "_dom_classes": [],
            "_model_module": "@jupyter-widgets/controls",
            "_model_module_version": "1.5.0",
            "_model_name": "HBoxModel",
            "_view_count": null,
            "_view_module": "@jupyter-widgets/controls",
            "_view_module_version": "1.5.0",
            "_view_name": "HBoxView",
            "box_style": "",
            "children": [
              "IPY_MODEL_09daef395a7c491a8389bc9efc4b7c1c",
              "IPY_MODEL_d730aee3e91948fd98fc427c60261608",
              "IPY_MODEL_87526751753941f3a95b4afa2f594d5a"
            ],
            "layout": "IPY_MODEL_2ef01b376bfc465786a507eb15e7a03a"
          }
        },
        "09daef395a7c491a8389bc9efc4b7c1c": {
          "model_module": "@jupyter-widgets/controls",
          "model_name": "HTMLModel",
          "model_module_version": "1.5.0",
          "state": {
            "_dom_classes": [],
            "_model_module": "@jupyter-widgets/controls",
            "_model_module_version": "1.5.0",
            "_model_name": "HTMLModel",
            "_view_count": null,
            "_view_module": "@jupyter-widgets/controls",
            "_view_module_version": "1.5.0",
            "_view_name": "HTMLView",
            "description": "",
            "description_tooltip": null,
            "layout": "IPY_MODEL_3cbd8460bfff4a3f9ae196d6f446ab92",
            "placeholder": "​",
            "style": "IPY_MODEL_76d5f3b3e5e54fc5a00665289a779622",
            "value": "100%"
          }
        },
        "d730aee3e91948fd98fc427c60261608": {
          "model_module": "@jupyter-widgets/controls",
          "model_name": "FloatProgressModel",
          "model_module_version": "1.5.0",
          "state": {
            "_dom_classes": [],
            "_model_module": "@jupyter-widgets/controls",
            "_model_module_version": "1.5.0",
            "_model_name": "FloatProgressModel",
            "_view_count": null,
            "_view_module": "@jupyter-widgets/controls",
            "_view_module_version": "1.5.0",
            "_view_name": "ProgressView",
            "bar_style": "success",
            "description": "",
            "description_tooltip": null,
            "layout": "IPY_MODEL_5b5023818674486d82a06ab4673cd434",
            "max": 1648877,
            "min": 0,
            "orientation": "horizontal",
            "style": "IPY_MODEL_75d9823326074920ab8cbceeac266a33",
            "value": 1648877
          }
        },
        "87526751753941f3a95b4afa2f594d5a": {
          "model_module": "@jupyter-widgets/controls",
          "model_name": "HTMLModel",
          "model_module_version": "1.5.0",
          "state": {
            "_dom_classes": [],
            "_model_module": "@jupyter-widgets/controls",
            "_model_module_version": "1.5.0",
            "_model_name": "HTMLModel",
            "_view_count": null,
            "_view_module": "@jupyter-widgets/controls",
            "_view_module_version": "1.5.0",
            "_view_name": "HTMLView",
            "description": "",
            "description_tooltip": null,
            "layout": "IPY_MODEL_a18e426712544cb6bf086ee31024f99c",
            "placeholder": "​",
            "style": "IPY_MODEL_39450bd322d94945b3e87d66c3f8c1a9",
            "value": " 1648877/1648877 [00:00&lt;00:00, 8938377.19it/s]"
          }
        },
        "2ef01b376bfc465786a507eb15e7a03a": {
          "model_module": "@jupyter-widgets/base",
          "model_name": "LayoutModel",
          "model_module_version": "1.2.0",
          "state": {
            "_model_module": "@jupyter-widgets/base",
            "_model_module_version": "1.2.0",
            "_model_name": "LayoutModel",
            "_view_count": null,
            "_view_module": "@jupyter-widgets/base",
            "_view_module_version": "1.2.0",
            "_view_name": "LayoutView",
            "align_content": null,
            "align_items": null,
            "align_self": null,
            "border": null,
            "bottom": null,
            "display": null,
            "flex": null,
            "flex_flow": null,
            "grid_area": null,
            "grid_auto_columns": null,
            "grid_auto_flow": null,
            "grid_auto_rows": null,
            "grid_column": null,
            "grid_gap": null,
            "grid_row": null,
            "grid_template_areas": null,
            "grid_template_columns": null,
            "grid_template_rows": null,
            "height": null,
            "justify_content": null,
            "justify_items": null,
            "left": null,
            "margin": null,
            "max_height": null,
            "max_width": null,
            "min_height": null,
            "min_width": null,
            "object_fit": null,
            "object_position": null,
            "order": null,
            "overflow": null,
            "overflow_x": null,
            "overflow_y": null,
            "padding": null,
            "right": null,
            "top": null,
            "visibility": null,
            "width": null
          }
        },
        "3cbd8460bfff4a3f9ae196d6f446ab92": {
          "model_module": "@jupyter-widgets/base",
          "model_name": "LayoutModel",
          "model_module_version": "1.2.0",
          "state": {
            "_model_module": "@jupyter-widgets/base",
            "_model_module_version": "1.2.0",
            "_model_name": "LayoutModel",
            "_view_count": null,
            "_view_module": "@jupyter-widgets/base",
            "_view_module_version": "1.2.0",
            "_view_name": "LayoutView",
            "align_content": null,
            "align_items": null,
            "align_self": null,
            "border": null,
            "bottom": null,
            "display": null,
            "flex": null,
            "flex_flow": null,
            "grid_area": null,
            "grid_auto_columns": null,
            "grid_auto_flow": null,
            "grid_auto_rows": null,
            "grid_column": null,
            "grid_gap": null,
            "grid_row": null,
            "grid_template_areas": null,
            "grid_template_columns": null,
            "grid_template_rows": null,
            "height": null,
            "justify_content": null,
            "justify_items": null,
            "left": null,
            "margin": null,
            "max_height": null,
            "max_width": null,
            "min_height": null,
            "min_width": null,
            "object_fit": null,
            "object_position": null,
            "order": null,
            "overflow": null,
            "overflow_x": null,
            "overflow_y": null,
            "padding": null,
            "right": null,
            "top": null,
            "visibility": null,
            "width": null
          }
        },
        "76d5f3b3e5e54fc5a00665289a779622": {
          "model_module": "@jupyter-widgets/controls",
          "model_name": "DescriptionStyleModel",
          "model_module_version": "1.5.0",
          "state": {
            "_model_module": "@jupyter-widgets/controls",
            "_model_module_version": "1.5.0",
            "_model_name": "DescriptionStyleModel",
            "_view_count": null,
            "_view_module": "@jupyter-widgets/base",
            "_view_module_version": "1.2.0",
            "_view_name": "StyleView",
            "description_width": ""
          }
        },
        "5b5023818674486d82a06ab4673cd434": {
          "model_module": "@jupyter-widgets/base",
          "model_name": "LayoutModel",
          "model_module_version": "1.2.0",
          "state": {
            "_model_module": "@jupyter-widgets/base",
            "_model_module_version": "1.2.0",
            "_model_name": "LayoutModel",
            "_view_count": null,
            "_view_module": "@jupyter-widgets/base",
            "_view_module_version": "1.2.0",
            "_view_name": "LayoutView",
            "align_content": null,
            "align_items": null,
            "align_self": null,
            "border": null,
            "bottom": null,
            "display": null,
            "flex": null,
            "flex_flow": null,
            "grid_area": null,
            "grid_auto_columns": null,
            "grid_auto_flow": null,
            "grid_auto_rows": null,
            "grid_column": null,
            "grid_gap": null,
            "grid_row": null,
            "grid_template_areas": null,
            "grid_template_columns": null,
            "grid_template_rows": null,
            "height": null,
            "justify_content": null,
            "justify_items": null,
            "left": null,
            "margin": null,
            "max_height": null,
            "max_width": null,
            "min_height": null,
            "min_width": null,
            "object_fit": null,
            "object_position": null,
            "order": null,
            "overflow": null,
            "overflow_x": null,
            "overflow_y": null,
            "padding": null,
            "right": null,
            "top": null,
            "visibility": null,
            "width": null
          }
        },
        "75d9823326074920ab8cbceeac266a33": {
          "model_module": "@jupyter-widgets/controls",
          "model_name": "ProgressStyleModel",
          "model_module_version": "1.5.0",
          "state": {
            "_model_module": "@jupyter-widgets/controls",
            "_model_module_version": "1.5.0",
            "_model_name": "ProgressStyleModel",
            "_view_count": null,
            "_view_module": "@jupyter-widgets/base",
            "_view_module_version": "1.2.0",
            "_view_name": "StyleView",
            "bar_color": null,
            "description_width": ""
          }
        },
        "a18e426712544cb6bf086ee31024f99c": {
          "model_module": "@jupyter-widgets/base",
          "model_name": "LayoutModel",
          "model_module_version": "1.2.0",
          "state": {
            "_model_module": "@jupyter-widgets/base",
            "_model_module_version": "1.2.0",
            "_model_name": "LayoutModel",
            "_view_count": null,
            "_view_module": "@jupyter-widgets/base",
            "_view_module_version": "1.2.0",
            "_view_name": "LayoutView",
            "align_content": null,
            "align_items": null,
            "align_self": null,
            "border": null,
            "bottom": null,
            "display": null,
            "flex": null,
            "flex_flow": null,
            "grid_area": null,
            "grid_auto_columns": null,
            "grid_auto_flow": null,
            "grid_auto_rows": null,
            "grid_column": null,
            "grid_gap": null,
            "grid_row": null,
            "grid_template_areas": null,
            "grid_template_columns": null,
            "grid_template_rows": null,
            "height": null,
            "justify_content": null,
            "justify_items": null,
            "left": null,
            "margin": null,
            "max_height": null,
            "max_width": null,
            "min_height": null,
            "min_width": null,
            "object_fit": null,
            "object_position": null,
            "order": null,
            "overflow": null,
            "overflow_x": null,
            "overflow_y": null,
            "padding": null,
            "right": null,
            "top": null,
            "visibility": null,
            "width": null
          }
        },
        "39450bd322d94945b3e87d66c3f8c1a9": {
          "model_module": "@jupyter-widgets/controls",
          "model_name": "DescriptionStyleModel",
          "model_module_version": "1.5.0",
          "state": {
            "_model_module": "@jupyter-widgets/controls",
            "_model_module_version": "1.5.0",
            "_model_name": "DescriptionStyleModel",
            "_view_count": null,
            "_view_module": "@jupyter-widgets/base",
            "_view_module_version": "1.2.0",
            "_view_name": "StyleView",
            "description_width": ""
          }
        },
        "16223352e5254b95a1724b892850585f": {
          "model_module": "@jupyter-widgets/controls",
          "model_name": "HBoxModel",
          "model_module_version": "1.5.0",
          "state": {
            "_dom_classes": [],
            "_model_module": "@jupyter-widgets/controls",
            "_model_module_version": "1.5.0",
            "_model_name": "HBoxModel",
            "_view_count": null,
            "_view_module": "@jupyter-widgets/controls",
            "_view_module_version": "1.5.0",
            "_view_name": "HBoxView",
            "box_style": "",
            "children": [
              "IPY_MODEL_2254ea087b63451d9f1672d89902752e",
              "IPY_MODEL_dd5ad2cd10b440f5910547fbbffa1aa9",
              "IPY_MODEL_fced8f387e5f4b07857d928d9ad0b969"
            ],
            "layout": "IPY_MODEL_eee8d3682d344d18b6c4954000a6eeb4"
          }
        },
        "2254ea087b63451d9f1672d89902752e": {
          "model_module": "@jupyter-widgets/controls",
          "model_name": "HTMLModel",
          "model_module_version": "1.5.0",
          "state": {
            "_dom_classes": [],
            "_model_module": "@jupyter-widgets/controls",
            "_model_module_version": "1.5.0",
            "_model_name": "HTMLModel",
            "_view_count": null,
            "_view_module": "@jupyter-widgets/controls",
            "_view_module_version": "1.5.0",
            "_view_name": "HTMLView",
            "description": "",
            "description_tooltip": null,
            "layout": "IPY_MODEL_2ad9baef35784f3f9a9c0fd821eda05a",
            "placeholder": "​",
            "style": "IPY_MODEL_59d9dca6b10449fdad90aa2bcc359226",
            "value": "100%"
          }
        },
        "dd5ad2cd10b440f5910547fbbffa1aa9": {
          "model_module": "@jupyter-widgets/controls",
          "model_name": "FloatProgressModel",
          "model_module_version": "1.5.0",
          "state": {
            "_dom_classes": [],
            "_model_module": "@jupyter-widgets/controls",
            "_model_module_version": "1.5.0",
            "_model_name": "FloatProgressModel",
            "_view_count": null,
            "_view_module": "@jupyter-widgets/controls",
            "_view_module_version": "1.5.0",
            "_view_name": "ProgressView",
            "bar_style": "success",
            "description": "",
            "description_tooltip": null,
            "layout": "IPY_MODEL_c50620b554cb4f87a72b00a5baa53874",
            "max": 4542,
            "min": 0,
            "orientation": "horizontal",
            "style": "IPY_MODEL_9873a29bc15248db807534463a2afb93",
            "value": 4542
          }
        },
        "fced8f387e5f4b07857d928d9ad0b969": {
          "model_module": "@jupyter-widgets/controls",
          "model_name": "HTMLModel",
          "model_module_version": "1.5.0",
          "state": {
            "_dom_classes": [],
            "_model_module": "@jupyter-widgets/controls",
            "_model_module_version": "1.5.0",
            "_model_name": "HTMLModel",
            "_view_count": null,
            "_view_module": "@jupyter-widgets/controls",
            "_view_module_version": "1.5.0",
            "_view_name": "HTMLView",
            "description": "",
            "description_tooltip": null,
            "layout": "IPY_MODEL_199c80cc2e08424083aa8cb8cb8dbf70",
            "placeholder": "​",
            "style": "IPY_MODEL_9931c3696f3e4b43b9de9ddfeb3bab36",
            "value": " 4542/4542 [00:00&lt;00:00, 123320.36it/s]"
          }
        },
        "eee8d3682d344d18b6c4954000a6eeb4": {
          "model_module": "@jupyter-widgets/base",
          "model_name": "LayoutModel",
          "model_module_version": "1.2.0",
          "state": {
            "_model_module": "@jupyter-widgets/base",
            "_model_module_version": "1.2.0",
            "_model_name": "LayoutModel",
            "_view_count": null,
            "_view_module": "@jupyter-widgets/base",
            "_view_module_version": "1.2.0",
            "_view_name": "LayoutView",
            "align_content": null,
            "align_items": null,
            "align_self": null,
            "border": null,
            "bottom": null,
            "display": null,
            "flex": null,
            "flex_flow": null,
            "grid_area": null,
            "grid_auto_columns": null,
            "grid_auto_flow": null,
            "grid_auto_rows": null,
            "grid_column": null,
            "grid_gap": null,
            "grid_row": null,
            "grid_template_areas": null,
            "grid_template_columns": null,
            "grid_template_rows": null,
            "height": null,
            "justify_content": null,
            "justify_items": null,
            "left": null,
            "margin": null,
            "max_height": null,
            "max_width": null,
            "min_height": null,
            "min_width": null,
            "object_fit": null,
            "object_position": null,
            "order": null,
            "overflow": null,
            "overflow_x": null,
            "overflow_y": null,
            "padding": null,
            "right": null,
            "top": null,
            "visibility": null,
            "width": null
          }
        },
        "2ad9baef35784f3f9a9c0fd821eda05a": {
          "model_module": "@jupyter-widgets/base",
          "model_name": "LayoutModel",
          "model_module_version": "1.2.0",
          "state": {
            "_model_module": "@jupyter-widgets/base",
            "_model_module_version": "1.2.0",
            "_model_name": "LayoutModel",
            "_view_count": null,
            "_view_module": "@jupyter-widgets/base",
            "_view_module_version": "1.2.0",
            "_view_name": "LayoutView",
            "align_content": null,
            "align_items": null,
            "align_self": null,
            "border": null,
            "bottom": null,
            "display": null,
            "flex": null,
            "flex_flow": null,
            "grid_area": null,
            "grid_auto_columns": null,
            "grid_auto_flow": null,
            "grid_auto_rows": null,
            "grid_column": null,
            "grid_gap": null,
            "grid_row": null,
            "grid_template_areas": null,
            "grid_template_columns": null,
            "grid_template_rows": null,
            "height": null,
            "justify_content": null,
            "justify_items": null,
            "left": null,
            "margin": null,
            "max_height": null,
            "max_width": null,
            "min_height": null,
            "min_width": null,
            "object_fit": null,
            "object_position": null,
            "order": null,
            "overflow": null,
            "overflow_x": null,
            "overflow_y": null,
            "padding": null,
            "right": null,
            "top": null,
            "visibility": null,
            "width": null
          }
        },
        "59d9dca6b10449fdad90aa2bcc359226": {
          "model_module": "@jupyter-widgets/controls",
          "model_name": "DescriptionStyleModel",
          "model_module_version": "1.5.0",
          "state": {
            "_model_module": "@jupyter-widgets/controls",
            "_model_module_version": "1.5.0",
            "_model_name": "DescriptionStyleModel",
            "_view_count": null,
            "_view_module": "@jupyter-widgets/base",
            "_view_module_version": "1.2.0",
            "_view_name": "StyleView",
            "description_width": ""
          }
        },
        "c50620b554cb4f87a72b00a5baa53874": {
          "model_module": "@jupyter-widgets/base",
          "model_name": "LayoutModel",
          "model_module_version": "1.2.0",
          "state": {
            "_model_module": "@jupyter-widgets/base",
            "_model_module_version": "1.2.0",
            "_model_name": "LayoutModel",
            "_view_count": null,
            "_view_module": "@jupyter-widgets/base",
            "_view_module_version": "1.2.0",
            "_view_name": "LayoutView",
            "align_content": null,
            "align_items": null,
            "align_self": null,
            "border": null,
            "bottom": null,
            "display": null,
            "flex": null,
            "flex_flow": null,
            "grid_area": null,
            "grid_auto_columns": null,
            "grid_auto_flow": null,
            "grid_auto_rows": null,
            "grid_column": null,
            "grid_gap": null,
            "grid_row": null,
            "grid_template_areas": null,
            "grid_template_columns": null,
            "grid_template_rows": null,
            "height": null,
            "justify_content": null,
            "justify_items": null,
            "left": null,
            "margin": null,
            "max_height": null,
            "max_width": null,
            "min_height": null,
            "min_width": null,
            "object_fit": null,
            "object_position": null,
            "order": null,
            "overflow": null,
            "overflow_x": null,
            "overflow_y": null,
            "padding": null,
            "right": null,
            "top": null,
            "visibility": null,
            "width": null
          }
        },
        "9873a29bc15248db807534463a2afb93": {
          "model_module": "@jupyter-widgets/controls",
          "model_name": "ProgressStyleModel",
          "model_module_version": "1.5.0",
          "state": {
            "_model_module": "@jupyter-widgets/controls",
            "_model_module_version": "1.5.0",
            "_model_name": "ProgressStyleModel",
            "_view_count": null,
            "_view_module": "@jupyter-widgets/base",
            "_view_module_version": "1.2.0",
            "_view_name": "StyleView",
            "bar_color": null,
            "description_width": ""
          }
        },
        "199c80cc2e08424083aa8cb8cb8dbf70": {
          "model_module": "@jupyter-widgets/base",
          "model_name": "LayoutModel",
          "model_module_version": "1.2.0",
          "state": {
            "_model_module": "@jupyter-widgets/base",
            "_model_module_version": "1.2.0",
            "_model_name": "LayoutModel",
            "_view_count": null,
            "_view_module": "@jupyter-widgets/base",
            "_view_module_version": "1.2.0",
            "_view_name": "LayoutView",
            "align_content": null,
            "align_items": null,
            "align_self": null,
            "border": null,
            "bottom": null,
            "display": null,
            "flex": null,
            "flex_flow": null,
            "grid_area": null,
            "grid_auto_columns": null,
            "grid_auto_flow": null,
            "grid_auto_rows": null,
            "grid_column": null,
            "grid_gap": null,
            "grid_row": null,
            "grid_template_areas": null,
            "grid_template_columns": null,
            "grid_template_rows": null,
            "height": null,
            "justify_content": null,
            "justify_items": null,
            "left": null,
            "margin": null,
            "max_height": null,
            "max_width": null,
            "min_height": null,
            "min_width": null,
            "object_fit": null,
            "object_position": null,
            "order": null,
            "overflow": null,
            "overflow_x": null,
            "overflow_y": null,
            "padding": null,
            "right": null,
            "top": null,
            "visibility": null,
            "width": null
          }
        },
        "9931c3696f3e4b43b9de9ddfeb3bab36": {
          "model_module": "@jupyter-widgets/controls",
          "model_name": "DescriptionStyleModel",
          "model_module_version": "1.5.0",
          "state": {
            "_model_module": "@jupyter-widgets/controls",
            "_model_module_version": "1.5.0",
            "_model_name": "DescriptionStyleModel",
            "_view_count": null,
            "_view_module": "@jupyter-widgets/base",
            "_view_module_version": "1.2.0",
            "_view_name": "StyleView",
            "description_width": ""
          }
        }
      }
    }
  },
  "cells": [
    {
      "cell_type": "markdown",
      "metadata": {
        "id": "view-in-github",
        "colab_type": "text"
      },
      "source": [
        "<a href=\"https://colab.research.google.com/github/MpRonald/Deep-Learning/blob/main/PyTorch_Autoencoders.ipynb\" target=\"_parent\"><img src=\"https://colab.research.google.com/assets/colab-badge.svg\" alt=\"Open In Colab\"/></a>"
      ]
    },
    {
      "cell_type": "code",
      "source": [
        "from google.colab import drive\n",
        "drive.mount('/content/drive')"
      ],
      "metadata": {
        "colab": {
          "base_uri": "https://localhost:8080/"
        },
        "id": "FL-Oqb0r88MC",
        "outputId": "ee8b8229-21e7-418a-feba-6c50ef1733c2"
      },
      "execution_count": 2,
      "outputs": [
        {
          "output_type": "stream",
          "name": "stdout",
          "text": [
            "Drive already mounted at /content/drive; to attempt to forcibly remount, call drive.mount(\"/content/drive\", force_remount=True).\n"
          ]
        }
      ]
    },
    {
      "cell_type": "code",
      "execution_count": 3,
      "metadata": {
        "id": "22imvLvv84Qa"
      },
      "outputs": [],
      "source": [
        "from torchvision import datasets, transforms\n",
        "import torch\n",
        "from torch import nn, optim\n",
        "from torch.nn.modules.activation import Sigmoid\n",
        "from sklearn.metrics import accuracy_score\n",
        "import matplotlib.pyplot as plt\n",
        "%matplotlib inline\n",
        "\n",
        "import warnings\n",
        "warnings.filterwarnings('ignore')"
      ]
    },
    {
      "cell_type": "code",
      "source": [
        "torch.manual_seed(42)"
      ],
      "metadata": {
        "colab": {
          "base_uri": "https://localhost:8080/"
        },
        "id": "fMQOGY_W9h5q",
        "outputId": "8a431891-cc19-4897-ffd1-fabd5d7b12ca"
      },
      "execution_count": 4,
      "outputs": [
        {
          "output_type": "execute_result",
          "data": {
            "text/plain": [
              "<torch._C.Generator at 0x7f3b9257f7b0>"
            ]
          },
          "metadata": {},
          "execution_count": 4
        }
      ]
    },
    {
      "cell_type": "markdown",
      "source": [
        "# Database"
      ],
      "metadata": {
        "id": "iDkGNvZtMIfC"
      }
    },
    {
      "cell_type": "code",
      "source": [
        "dataset_train = datasets.MNIST('MNIST-data', train=True, download=True, transform=transforms.ToTensor())\n",
        "loader_train = torch.utils.data.DataLoader(dataset_train, batch_size=256, shuffle=True)\n",
        "dataset_val = datasets.MNIST('MNIST-data', train=False, download=True, transform=transforms.ToTensor())\n",
        "loader_val = torch.utils.data.DataLoader(dataset_val, batch_size=256, shuffle=True)"
      ],
      "metadata": {
        "id": "gMHcQhtN9kYf",
        "colab": {
          "base_uri": "https://localhost:8080/",
          "height": 423,
          "referenced_widgets": [
            "847f458c028c46bdbde1c0cdd1efe9d5",
            "296cfda36716405f85da8b02af876dcc",
            "77a7cc5bff0b45f0b976bd8980124576",
            "10c5c09874954bca8d55cdbc0580aba6",
            "60c1999cb5f54788b9cfc8b7fc662ac8",
            "bad8c86486084d2590ab6c14ec68cf41",
            "37494a90564344f3a0ddda448d4042c9",
            "993f1729e49a404c93adc4bb5f50f155",
            "dc9da8a13f494fc7ac53b430eb39cac2",
            "c67e8173c1ca4131a5558a981206db94",
            "d91944add94b454ebe06bc6c8cb613ea",
            "17df8bc9ea5240fb8a0a23153a2535b0",
            "8441339aec1140d9a3d18936f2c2e8f6",
            "d6b217236f7841889ebd3791600aab05",
            "9b33f21f55194e6f8b65d44a222c2451",
            "4c93b086cf3f4b619ae3575364585668",
            "8dcd53ac45854286844dae73f41b5805",
            "5ccfa6f2692a403895d4191ddcfe8575",
            "04f0f34353474f1bbbecc2cf211330b8",
            "e1f1b31f0f664d79a89b991b1f08551b",
            "6df8288006a4492e83f7e264b4793dca",
            "92df6f80c5794d3badbac484ed719415",
            "fba66812ef284590ab2fce06b3a3f8f3",
            "09daef395a7c491a8389bc9efc4b7c1c",
            "d730aee3e91948fd98fc427c60261608",
            "87526751753941f3a95b4afa2f594d5a",
            "2ef01b376bfc465786a507eb15e7a03a",
            "3cbd8460bfff4a3f9ae196d6f446ab92",
            "76d5f3b3e5e54fc5a00665289a779622",
            "5b5023818674486d82a06ab4673cd434",
            "75d9823326074920ab8cbceeac266a33",
            "a18e426712544cb6bf086ee31024f99c",
            "39450bd322d94945b3e87d66c3f8c1a9",
            "16223352e5254b95a1724b892850585f",
            "2254ea087b63451d9f1672d89902752e",
            "dd5ad2cd10b440f5910547fbbffa1aa9",
            "fced8f387e5f4b07857d928d9ad0b969",
            "eee8d3682d344d18b6c4954000a6eeb4",
            "2ad9baef35784f3f9a9c0fd821eda05a",
            "59d9dca6b10449fdad90aa2bcc359226",
            "c50620b554cb4f87a72b00a5baa53874",
            "9873a29bc15248db807534463a2afb93",
            "199c80cc2e08424083aa8cb8cb8dbf70",
            "9931c3696f3e4b43b9de9ddfeb3bab36"
          ]
        },
        "outputId": "08ceb3f0-5b64-4509-ef12-080f32adecae"
      },
      "execution_count": 5,
      "outputs": [
        {
          "output_type": "stream",
          "name": "stdout",
          "text": [
            "Downloading http://yann.lecun.com/exdb/mnist/train-images-idx3-ubyte.gz\n",
            "Downloading http://yann.lecun.com/exdb/mnist/train-images-idx3-ubyte.gz to MNIST-data/MNIST/raw/train-images-idx3-ubyte.gz\n"
          ]
        },
        {
          "output_type": "display_data",
          "data": {
            "text/plain": [
              "  0%|          | 0/9912422 [00:00<?, ?it/s]"
            ],
            "application/vnd.jupyter.widget-view+json": {
              "version_major": 2,
              "version_minor": 0,
              "model_id": "847f458c028c46bdbde1c0cdd1efe9d5"
            }
          },
          "metadata": {}
        },
        {
          "output_type": "stream",
          "name": "stdout",
          "text": [
            "Extracting MNIST-data/MNIST/raw/train-images-idx3-ubyte.gz to MNIST-data/MNIST/raw\n",
            "\n",
            "Downloading http://yann.lecun.com/exdb/mnist/train-labels-idx1-ubyte.gz\n",
            "Downloading http://yann.lecun.com/exdb/mnist/train-labels-idx1-ubyte.gz to MNIST-data/MNIST/raw/train-labels-idx1-ubyte.gz\n"
          ]
        },
        {
          "output_type": "display_data",
          "data": {
            "text/plain": [
              "  0%|          | 0/28881 [00:00<?, ?it/s]"
            ],
            "application/vnd.jupyter.widget-view+json": {
              "version_major": 2,
              "version_minor": 0,
              "model_id": "17df8bc9ea5240fb8a0a23153a2535b0"
            }
          },
          "metadata": {}
        },
        {
          "output_type": "stream",
          "name": "stdout",
          "text": [
            "Extracting MNIST-data/MNIST/raw/train-labels-idx1-ubyte.gz to MNIST-data/MNIST/raw\n",
            "\n",
            "Downloading http://yann.lecun.com/exdb/mnist/t10k-images-idx3-ubyte.gz\n",
            "Downloading http://yann.lecun.com/exdb/mnist/t10k-images-idx3-ubyte.gz to MNIST-data/MNIST/raw/t10k-images-idx3-ubyte.gz\n"
          ]
        },
        {
          "output_type": "display_data",
          "data": {
            "text/plain": [
              "  0%|          | 0/1648877 [00:00<?, ?it/s]"
            ],
            "application/vnd.jupyter.widget-view+json": {
              "version_major": 2,
              "version_minor": 0,
              "model_id": "fba66812ef284590ab2fce06b3a3f8f3"
            }
          },
          "metadata": {}
        },
        {
          "output_type": "stream",
          "name": "stdout",
          "text": [
            "Extracting MNIST-data/MNIST/raw/t10k-images-idx3-ubyte.gz to MNIST-data/MNIST/raw\n",
            "\n",
            "Downloading http://yann.lecun.com/exdb/mnist/t10k-labels-idx1-ubyte.gz\n",
            "Downloading http://yann.lecun.com/exdb/mnist/t10k-labels-idx1-ubyte.gz to MNIST-data/MNIST/raw/t10k-labels-idx1-ubyte.gz\n"
          ]
        },
        {
          "output_type": "display_data",
          "data": {
            "text/plain": [
              "  0%|          | 0/4542 [00:00<?, ?it/s]"
            ],
            "application/vnd.jupyter.widget-view+json": {
              "version_major": 2,
              "version_minor": 0,
              "model_id": "16223352e5254b95a1724b892850585f"
            }
          },
          "metadata": {}
        },
        {
          "output_type": "stream",
          "name": "stdout",
          "text": [
            "Extracting MNIST-data/MNIST/raw/t10k-labels-idx1-ubyte.gz to MNIST-data/MNIST/raw\n",
            "\n"
          ]
        }
      ]
    },
    {
      "cell_type": "code",
      "source": [
        "class autoencoder(nn.Module):\n",
        "    def __init__(self):\n",
        "        super().__init__()\n",
        "        self.dense0 = nn.Linear(in_features=784, out_features=32)\n",
        "        self.activation0 = nn.ReLU()\n",
        "        self.dense1 = nn.Linear(32,784)\n",
        "        self.activation1 = nn.Sigmoid()\n",
        "\n",
        "    def forward(self,X):\n",
        "        X = X.view(-1, 28*28)\n",
        "        X = self.dense0(X)\n",
        "        X = self.activation0(X)\n",
        "        X = self.dense1(X)\n",
        "        X = self.activation1(X)\n",
        "\n",
        "        return X"
      ],
      "metadata": {
        "id": "CjFzKt9ZCCCj"
      },
      "execution_count": 6,
      "outputs": []
    },
    {
      "cell_type": "code",
      "source": [
        "device = 'cuda' if torch.cuda.is_available() else 'cpu'"
      ],
      "metadata": {
        "id": "2cDy21JqFmrh"
      },
      "execution_count": 7,
      "outputs": []
    },
    {
      "cell_type": "code",
      "source": [
        "model = autoencoder()\n",
        "criterion = nn.BCELoss()\n",
        "optimizer = optim.Adam(model.parameters())"
      ],
      "metadata": {
        "id": "MaPKsskUD0TW"
      },
      "execution_count": 8,
      "outputs": []
    },
    {
      "cell_type": "code",
      "source": [
        "for epoch in range(10):\n",
        "    #training\n",
        "    r_loss = 0.\n",
        "    for data in loader_train:\n",
        "        model.train()\n",
        "        inputs, _ = data\n",
        "        inputs = inputs.to(device)\n",
        "        optimizer.zero_grad()\n",
        "        outputs = model.forward(inputs)\n",
        "        loss = criterion(outputs, inputs.view(*outputs.shape))\n",
        "        loss.backward()\n",
        "        optimizer.step()\n",
        "        r_loss += loss.item()\n",
        "\n",
        "    # validation\n",
        "    r_val = 0.\n",
        "    for data in loader_val:\n",
        "        model.eval()\n",
        "        inputs, _ = data\n",
        "        inputs = inputs.to(device)\n",
        "        outputs = model.forward(inputs)\n",
        "        loss = criterion(outputs, inputs.view(*outputs.shape))\n",
        "        r_val += loss.item()\n",
        "\n",
        "    print(f\"Epoch: {epoch+1} --- Loss Train: {r_loss/len(loader_train)} --- Loss Eval: {r_val/len(loader_val)}\")"
      ],
      "metadata": {
        "colab": {
          "base_uri": "https://localhost:8080/"
        },
        "id": "w_M4GcQ_ESAZ",
        "outputId": "b4a6d188-fd40-47be-8f02-fd6092086833"
      },
      "execution_count": 9,
      "outputs": [
        {
          "output_type": "stream",
          "name": "stdout",
          "text": [
            "Epoch: 1 --- Loss Train: 0.30737217525218397 --- Loss Eval: 0.2154150102287531\n",
            "Epoch: 2 --- Loss Train: 0.19030869305133818 --- Loss Eval: 0.1689269933849573\n",
            "Epoch: 3 --- Loss Train: 0.15796816298302183 --- Loss Eval: 0.14679054915905\n",
            "Epoch: 4 --- Loss Train: 0.1427721641165145 --- Loss Eval: 0.1360139213502407\n",
            "Epoch: 5 --- Loss Train: 0.13408545109819858 --- Loss Eval: 0.1294875280931592\n",
            "Epoch: 6 --- Loss Train: 0.1268249958119494 --- Loss Eval: 0.12188855689018965\n",
            "Epoch: 7 --- Loss Train: 0.12141105837010323 --- Loss Eval: 0.11803662404417992\n",
            "Epoch: 8 --- Loss Train: 0.11824550111877158 --- Loss Eval: 0.11534593403339385\n",
            "Epoch: 9 --- Loss Train: 0.11612822958763609 --- Loss Eval: 0.11336795743554831\n",
            "Epoch: 10 --- Loss Train: 0.11467167341962774 --- Loss Eval: 0.11250857133418321\n"
          ]
        }
      ]
    },
    {
      "cell_type": "code",
      "source": [
        "class encoder(nn.Module):\n",
        "    def __init__(self):\n",
        "        super().__init__()\n",
        "        self.dense0 = list(model.children())[0]\n",
        "        self.activation0 = list(model.children())[1]\n",
        "\n",
        "    def forward(self, X):\n",
        "        X = X.view(-1,28*28)\n",
        "        X = self.dense0(X)\n",
        "        X = self.activation0(X)\n",
        "        return X"
      ],
      "metadata": {
        "id": "KzXU2BJFICxC"
      },
      "execution_count": 10,
      "outputs": []
    },
    {
      "cell_type": "code",
      "source": [
        "model2 = encoder()\n",
        "model2.to(device)"
      ],
      "metadata": {
        "colab": {
          "base_uri": "https://localhost:8080/"
        },
        "id": "JKbokiWmIqwN",
        "outputId": "39c92f35-c51b-4f27-a35a-dfc25638a7b3"
      },
      "execution_count": 11,
      "outputs": [
        {
          "output_type": "execute_result",
          "data": {
            "text/plain": [
              "encoder(\n",
              "  (dense0): Linear(in_features=784, out_features=32, bias=True)\n",
              "  (activation0): ReLU()\n",
              ")"
            ]
          },
          "metadata": {},
          "execution_count": 11
        }
      ]
    },
    {
      "cell_type": "code",
      "source": [
        "class decoder(nn.Module):\n",
        "    def __init__(self):\n",
        "        super().__init__()\n",
        "        self.dense0 = list(model.children())[2]\n",
        "        self.activation0 = list(model.children())[3]\n",
        "\n",
        "    def forward(self, X):\n",
        "        X = self.dense0(X)\n",
        "        X = self.activation0(X)\n",
        "        return X"
      ],
      "metadata": {
        "id": "wrJ3lOFRI3FC"
      },
      "execution_count": 12,
      "outputs": []
    },
    {
      "cell_type": "code",
      "source": [
        "model3 = decoder()\n",
        "model3.to(device)"
      ],
      "metadata": {
        "colab": {
          "base_uri": "https://localhost:8080/"
        },
        "id": "mA_1Y9cgJcyT",
        "outputId": "e7ce1bcf-bb66-4a01-894e-cf297082802b"
      },
      "execution_count": 13,
      "outputs": [
        {
          "output_type": "execute_result",
          "data": {
            "text/plain": [
              "decoder(\n",
              "  (dense0): Linear(in_features=32, out_features=784, bias=True)\n",
              "  (activation0): Sigmoid()\n",
              ")"
            ]
          },
          "metadata": {},
          "execution_count": 13
        }
      ]
    },
    {
      "cell_type": "code",
      "source": [
        "image_num = 10\n",
        "img_test = next(iter(loader_val))[0][:image_num]\n",
        "img_test = img_test.to(device)"
      ],
      "metadata": {
        "id": "jLteqBOLJwIX"
      },
      "execution_count": 14,
      "outputs": []
    },
    {
      "cell_type": "code",
      "source": [
        "model2.eval()\n",
        "img_cod = model2(img_test)\n",
        "img_cod.shape"
      ],
      "metadata": {
        "colab": {
          "base_uri": "https://localhost:8080/"
        },
        "id": "WIyd7uWMKYdy",
        "outputId": "7b05abe5-41f2-4051-f428-cbae5ad8419a"
      },
      "execution_count": 15,
      "outputs": [
        {
          "output_type": "execute_result",
          "data": {
            "text/plain": [
              "torch.Size([10, 32])"
            ]
          },
          "metadata": {},
          "execution_count": 15
        }
      ]
    },
    {
      "cell_type": "code",
      "source": [
        "model3.eval()\n",
        "img_decod = model3(img_cod)\n",
        "img_decod.shape"
      ],
      "metadata": {
        "colab": {
          "base_uri": "https://localhost:8080/"
        },
        "id": "nDMVeuEVKn_o",
        "outputId": "3aead91e-01f4-4be9-a07a-ca80c27158f8"
      },
      "execution_count": 16,
      "outputs": [
        {
          "output_type": "execute_result",
          "data": {
            "text/plain": [
              "torch.Size([10, 784])"
            ]
          },
          "metadata": {},
          "execution_count": 16
        }
      ]
    },
    {
      "cell_type": "code",
      "source": [
        "img_test2 = img_test.detach().cpu().numpy().reshape(-1,28,28)\n",
        "img_cod2 = img_cod.detach().cpu().numpy().reshape(-1,8,4)\n",
        "img_decod2 = img_decod.detach().cpu().numpy().reshape(-1,28,28)"
      ],
      "metadata": {
        "id": "d5xFrYScK-xw"
      },
      "execution_count": 17,
      "outputs": []
    },
    {
      "cell_type": "code",
      "source": [
        "f, ax = plt.subplots(nrows=3, ncols=image_num, figsize=(15,4))\n",
        "for images, ax_row in zip([img_test2, img_cod2, img_decod2], ax):\n",
        "    for img, ax in zip(images, ax_row):\n",
        "        ax.imshow(img, cmap='gray')\n",
        "        ax.get_xaxis().set_visible(False)\n",
        "        ax.get_yaxis().set_visible(False)"
      ],
      "metadata": {
        "colab": {
          "base_uri": "https://localhost:8080/",
          "height": 252
        },
        "id": "HW_OQCc4Lsen",
        "outputId": "64fc6667-e883-4e3b-d2ca-7ac13a805b13"
      },
      "execution_count": 18,
      "outputs": [
        {
          "output_type": "display_data",
          "data": {
            "text/plain": [
              "<Figure size 1080x288 with 30 Axes>"
            ],
            "image/png": "[encoded data removed]"
          },
          "metadata": {
            "needs_background": "light"
          }
        }
      ]
    },
    {
      "cell_type": "markdown",
      "source": [
        "## Codifying Predict"
      ],
      "metadata": {
        "id": "w7T_U1LKMnD_"
      }
    },
    {
      "cell_type": "code",
      "source": [
        "train_pred = (dataset_train.data.float() / 255).view(-1,784).to(device)\n",
        "train_pred.shape"
      ],
      "metadata": {
        "id": "03NYB2cXMpop",
        "colab": {
          "base_uri": "https://localhost:8080/"
        },
        "outputId": "d830961c-1ef0-4441-fa54-ab76fe66639e"
      },
      "execution_count": 19,
      "outputs": [
        {
          "output_type": "execute_result",
          "data": {
            "text/plain": [
              "torch.Size([60000, 784])"
            ]
          },
          "metadata": {},
          "execution_count": 19
        }
      ]
    },
    {
      "cell_type": "code",
      "source": [
        "with torch.no_grad():\n",
        "    train_pred_cod = model2(train_pred)"
      ],
      "metadata": {
        "id": "OoQlf_xJNC7R"
      },
      "execution_count": 20,
      "outputs": []
    },
    {
      "cell_type": "code",
      "source": [
        "train_class = dataset_train.targets"
      ],
      "metadata": {
        "id": "0g8MMCcVOJ10"
      },
      "execution_count": 21,
      "outputs": []
    },
    {
      "cell_type": "code",
      "source": [
        "train_pred_cod.shape, train_class"
      ],
      "metadata": {
        "colab": {
          "base_uri": "https://localhost:8080/"
        },
        "id": "50sahVoDOPfy",
        "outputId": "3ada0dec-6b81-496a-cd8c-43921c7f4365"
      },
      "execution_count": 22,
      "outputs": [
        {
          "output_type": "execute_result",
          "data": {
            "text/plain": [
              "(torch.Size([60000, 32]), tensor([5, 0, 4,  ..., 5, 6, 8]))"
            ]
          },
          "metadata": {},
          "execution_count": 22
        }
      ]
    },
    {
      "cell_type": "code",
      "source": [
        "dataset_train_cod = torch.utils.data.TensorDataset(train_pred_cod, train_class)\n",
        "loader_train_cod = torch.utils.data.DataLoader(dataset_train_cod, batch_size=256, shuffle=True)"
      ],
      "metadata": {
        "id": "t45iQ2qdOYyZ"
      },
      "execution_count": 23,
      "outputs": []
    },
    {
      "cell_type": "code",
      "source": [
        "val_pred = (dataset_val.data.float() / 255).view(-1,784).to(device)\n",
        "with torch.no_grad():\n",
        "    val_pred_cod = model2(val_pred)\n",
        "val_class = dataset_val.targets\n",
        "dataset_test_cod = torch.utils.data.TensorDataset(val_pred_cod, val_class)\n",
        "loader_val_cod = torch.utils.data.DataLoader(dataset_test_cod, batch_size=256, shuffle=True)"
      ],
      "metadata": {
        "id": "xMB9PwoQO11V"
      },
      "execution_count": 24,
      "outputs": []
    },
    {
      "cell_type": "markdown",
      "source": [
        "# Classifier without Dimensionality Reduction"
      ],
      "metadata": {
        "id": "_Yz7TrUWRvVa"
      }
    },
    {
      "cell_type": "code",
      "metadata": {
        "id": "kvATxlNGMqAU"
      },
      "source": [
        "c1 = nn.Sequential(nn.Linear(784, 397),\n",
        "                   nn.ReLU(),\n",
        "                   nn.Linear(397, 10),\n",
        "                   nn.LogSoftmax())\n",
        "c1.to(device)\n",
        "criterion = nn.NLLLoss()\n",
        "optimizer = optim.Adam(c1.parameters())"
      ],
      "execution_count": 25,
      "outputs": []
    },
    {
      "cell_type": "code",
      "metadata": {
        "id": "AAn5gDP8KcbK",
        "colab": {
          "base_uri": "https://localhost:8080/"
        },
        "outputId": "42c19244-ec89-4444-b6e3-f211ebf31ff6"
      },
      "source": [
        "for epoch in range(20):  \n",
        "    # Treinamento\n",
        "    running_loss_train = 0.\n",
        "    running_accuracy_train = 0.\n",
        "    for data in loader_train:\n",
        "        c1.train()\n",
        "        inputs, labels = data\n",
        "        inputs, labels = inputs.to(device), labels.to(device)\n",
        "        inputs = inputs.view(-1, 28*28)\n",
        "        optimizer.zero_grad()\n",
        "        outputs = c1(inputs)\n",
        "        ps = torch.exp(outputs)\n",
        "        _, top_class = ps.topk(k = 1, dim = 1)\n",
        "        loss = criterion(outputs, labels)\n",
        "        loss.backward()\n",
        "        optimizer.step()\n",
        "        running_loss_train += loss.item()\n",
        "        running_accuracy_train += accuracy_score(labels.detach().cpu().numpy(), \n",
        "                                                 top_class.detach().cpu().numpy())\n",
        "    \n",
        "    # Validação\n",
        "    running_loss_val = 0.\n",
        "    running_accuracy_val = 0.\n",
        "    for data in loader_val:\n",
        "        c1.eval()\n",
        "        inputs, labels = data\n",
        "        inputs, labels = inputs.to(device), labels.to(device)\n",
        "        inputs = inputs.view(-1, 28*28)\n",
        "        outputs = c1(inputs)\n",
        "        ps = torch.exp(outputs)\n",
        "        _, top_class = ps.topk(k = 1, dim = 1)\n",
        "        loss = criterion(outputs, labels)\n",
        "        running_loss_val += loss.item()\n",
        "        running_accuracy_val += accuracy_score(labels.detach().cpu().numpy(), \n",
        "                                               top_class.detach().cpu().numpy())\n",
        "        \n",
        "# Final da época\n",
        "    \n",
        "    print('Epoch {:3d}: | Train Loss {:.5f} | Train Precision {:5f} | Loss Val {:.5f} | Val Precision  {:5f}'.format(epoch + 1,\n",
        "            running_loss_train/len(loader_train),\n",
        "            running_accuracy_train/len(loader_train), \n",
        "            running_loss_val/len(loader_val),\n",
        "            running_accuracy_val/len(loader_val)))\n",
        "    print('-'*120)"
      ],
      "execution_count": 26,
      "outputs": [
        {
          "output_type": "stream",
          "name": "stdout",
          "text": [
            "Epoch   1: | Train Loss 0.41352 | Train Precision 0.891423 | Loss Val 0.21994 | Val Precision  0.938867\n",
            "------------------------------------------------------------------------------------------------------------------------\n",
            "Epoch   2: | Train Loss 0.18024 | Train Precision 0.948166 | Loss Val 0.14738 | Val Precision  0.957031\n",
            "------------------------------------------------------------------------------------------------------------------------\n",
            "Epoch   3: | Train Loss 0.12563 | Train Precision 0.963575 | Loss Val 0.10950 | Val Precision  0.966992\n",
            "------------------------------------------------------------------------------------------------------------------------\n",
            "Epoch   4: | Train Loss 0.09372 | Train Precision 0.972551 | Loss Val 0.09594 | Val Precision  0.970898\n",
            "------------------------------------------------------------------------------------------------------------------------\n",
            "Epoch   5: | Train Loss 0.07369 | Train Precision 0.979189 | Loss Val 0.08458 | Val Precision  0.974023\n",
            "------------------------------------------------------------------------------------------------------------------------\n",
            "Epoch   6: | Train Loss 0.05957 | Train Precision 0.982685 | Loss Val 0.08053 | Val Precision  0.975488\n",
            "------------------------------------------------------------------------------------------------------------------------\n",
            "Epoch   7: | Train Loss 0.04975 | Train Precision 0.985821 | Loss Val 0.07114 | Val Precision  0.979492\n",
            "------------------------------------------------------------------------------------------------------------------------\n",
            "Epoch   8: | Train Loss 0.04102 | Train Precision 0.988431 | Loss Val 0.07044 | Val Precision  0.978418\n",
            "------------------------------------------------------------------------------------------------------------------------\n",
            "Epoch   9: | Train Loss 0.03304 | Train Precision 0.990824 | Loss Val 0.06690 | Val Precision  0.979590\n",
            "------------------------------------------------------------------------------------------------------------------------\n",
            "Epoch  10: | Train Loss 0.02728 | Train Precision 0.993185 | Loss Val 0.07204 | Val Precision  0.977148\n",
            "------------------------------------------------------------------------------------------------------------------------\n",
            "Epoch  11: | Train Loss 0.02333 | Train Precision 0.994099 | Loss Val 0.06358 | Val Precision  0.979395\n",
            "------------------------------------------------------------------------------------------------------------------------\n",
            "Epoch  12: | Train Loss 0.01943 | Train Precision 0.995451 | Loss Val 0.06101 | Val Precision  0.981250\n",
            "------------------------------------------------------------------------------------------------------------------------\n",
            "Epoch  13: | Train Loss 0.01609 | Train Precision 0.996326 | Loss Val 0.06372 | Val Precision  0.980859\n",
            "------------------------------------------------------------------------------------------------------------------------\n",
            "Epoch  14: | Train Loss 0.01317 | Train Precision 0.997479 | Loss Val 0.06545 | Val Precision  0.980371\n",
            "------------------------------------------------------------------------------------------------------------------------\n",
            "Epoch  15: | Train Loss 0.01115 | Train Precision 0.997955 | Loss Val 0.06223 | Val Precision  0.981445\n",
            "------------------------------------------------------------------------------------------------------------------------\n",
            "Epoch  16: | Train Loss 0.00865 | Train Precision 0.998687 | Loss Val 0.06426 | Val Precision  0.980566\n",
            "------------------------------------------------------------------------------------------------------------------------\n",
            "Epoch  17: | Train Loss 0.00729 | Train Precision 0.998953 | Loss Val 0.06457 | Val Precision  0.981445\n",
            "------------------------------------------------------------------------------------------------------------------------\n",
            "Epoch  18: | Train Loss 0.00569 | Train Precision 0.999501 | Loss Val 0.06708 | Val Precision  0.979297\n",
            "------------------------------------------------------------------------------------------------------------------------\n",
            "Epoch  19: | Train Loss 0.00484 | Train Precision 0.999568 | Loss Val 0.06809 | Val Precision  0.980371\n",
            "------------------------------------------------------------------------------------------------------------------------\n",
            "Epoch  20: | Train Loss 0.00418 | Train Precision 0.999535 | Loss Val 0.07973 | Val Precision  0.978809\n",
            "------------------------------------------------------------------------------------------------------------------------\n"
          ]
        }
      ]
    },
    {
      "cell_type": "markdown",
      "metadata": {
        "id": "xatZwiX9LBvI"
      },
      "source": [
        "## Etapa 8: Classificação com redução de dimensionalidade"
      ]
    },
    {
      "cell_type": "code",
      "metadata": {
        "id": "C_O2gkpGLFTZ"
      },
      "source": [
        "c2 = nn.Sequential(\n",
        "        nn.Linear(32, 21),\n",
        "        nn.ReLU(),\n",
        "        nn.Linear(21, 10),\n",
        "        nn.LogSoftmax())\n",
        "c2.to(device)\n",
        "criterion = nn.NLLLoss()\n",
        "optimizer = optim.Adam(c2.parameters())"
      ],
      "execution_count": 27,
      "outputs": []
    },
    {
      "cell_type": "code",
      "metadata": {
        "id": "MyXw8IT9LMTQ",
        "colab": {
          "base_uri": "https://localhost:8080/"
        },
        "outputId": "1917a7f5-b867-4b53-afa7-bd3979a1a520"
      },
      "source": [
        "for epoch in range(25): \n",
        "    running_loss_train = 0.\n",
        "    running_accuracy_train = 0.\n",
        "    for data in loader_train_cod:\n",
        "        c2.train()\n",
        "        inputs, labels = data\n",
        "        inputs, labels = inputs.to(device), labels.to(device)\n",
        "        optimizer.zero_grad()\n",
        "        outputs = c2(inputs)\n",
        "        ps = torch.exp(outputs)\n",
        "        _, top_class = ps.topk(k = 1, dim = 1)\n",
        "        loss = criterion(outputs, labels)\n",
        "        loss.backward()\n",
        "        optimizer.step()\n",
        "        running_loss_train += loss.item()\n",
        "        running_accuracy_train += accuracy_score(labels.detach().cpu().numpy(), \n",
        "                                                 top_class.detach().cpu().numpy())\n",
        "    \n",
        "    # Validação\n",
        "    running_loss_val = 0.\n",
        "    running_accuracy_val = 0.\n",
        "    for data in loader_val_cod:\n",
        "        c2.eval()\n",
        "        inputs, labels = data\n",
        "        inputs, labels = inputs.to(device), labels.to(device)\n",
        "        outputs = c2(inputs)\n",
        "        ps = torch.exp(outputs)\n",
        "        _, top_class = ps.topk(k = 1, dim = 1)\n",
        "        loss = criterion(outputs, labels)\n",
        "        running_loss_val += loss.item()\n",
        "        running_accuracy_val += accuracy_score(labels.detach().cpu().numpy(), \n",
        "                                               top_class.detach().cpu().numpy())\n",
        "        \n",
        "    # Final da época\n",
        "    print('Epoch {:3d}: | Train Loss {:.5f} | Train Precision {:5f} | Loss Val {:.5f} | Val Precision  {:5f}'.format(epoch + 1,\n",
        "            running_loss_train/len(loader_train),\n",
        "            running_accuracy_train/len(loader_train), \n",
        "            running_loss_val/len(loader_val),\n",
        "            running_accuracy_val/len(loader_val)))\n",
        "    print('-'*120)"
      ],
      "execution_count": 28,
      "outputs": [
        {
          "output_type": "stream",
          "name": "stdout",
          "text": [
            "Epoch   1: | Train Loss 1.53397 | Train Precision 0.541733 | Loss Val 0.73967 | Val Precision  0.803223\n",
            "------------------------------------------------------------------------------------------------------------------------\n",
            "Epoch   2: | Train Loss 0.57840 | Train Precision 0.841717 | Loss Val 0.47333 | Val Precision  0.870313\n",
            "------------------------------------------------------------------------------------------------------------------------\n",
            "Epoch   3: | Train Loss 0.44496 | Train Precision 0.872047 | Loss Val 0.41223 | Val Precision  0.878809\n",
            "------------------------------------------------------------------------------------------------------------------------\n",
            "Epoch   4: | Train Loss 0.40316 | Train Precision 0.881627 | Loss Val 0.36866 | Val Precision  0.892285\n",
            "------------------------------------------------------------------------------------------------------------------------\n",
            "Epoch   5: | Train Loss 0.38210 | Train Precision 0.886209 | Loss Val 0.35274 | Val Precision  0.897754\n",
            "------------------------------------------------------------------------------------------------------------------------\n",
            "Epoch   6: | Train Loss 0.36680 | Train Precision 0.890625 | Loss Val 0.33806 | Val Precision  0.900586\n",
            "------------------------------------------------------------------------------------------------------------------------\n",
            "Epoch   7: | Train Loss 0.35340 | Train Precision 0.894127 | Loss Val 0.33803 | Val Precision  0.898242\n",
            "------------------------------------------------------------------------------------------------------------------------\n",
            "Epoch   8: | Train Loss 0.34275 | Train Precision 0.897424 | Loss Val 0.32024 | Val Precision  0.904004\n",
            "------------------------------------------------------------------------------------------------------------------------\n",
            "Epoch   9: | Train Loss 0.33235 | Train Precision 0.899978 | Loss Val 0.31641 | Val Precision  0.907227\n",
            "------------------------------------------------------------------------------------------------------------------------\n",
            "Epoch  10: | Train Loss 0.32137 | Train Precision 0.903463 | Loss Val 0.30922 | Val Precision  0.909375\n",
            "------------------------------------------------------------------------------------------------------------------------\n",
            "Epoch  11: | Train Loss 0.31118 | Train Precision 0.907053 | Loss Val 0.30120 | Val Precision  0.912988\n",
            "------------------------------------------------------------------------------------------------------------------------\n",
            "Epoch  12: | Train Loss 0.30282 | Train Precision 0.908993 | Loss Val 0.28771 | Val Precision  0.916895\n",
            "------------------------------------------------------------------------------------------------------------------------\n",
            "Epoch  13: | Train Loss 0.29423 | Train Precision 0.911281 | Loss Val 0.28368 | Val Precision  0.918359\n",
            "------------------------------------------------------------------------------------------------------------------------\n",
            "Epoch  14: | Train Loss 0.28651 | Train Precision 0.913907 | Loss Val 0.27092 | Val Precision  0.919531\n",
            "------------------------------------------------------------------------------------------------------------------------\n",
            "Epoch  15: | Train Loss 0.27763 | Train Precision 0.916850 | Loss Val 0.26472 | Val Precision  0.921191\n",
            "------------------------------------------------------------------------------------------------------------------------\n",
            "Epoch  16: | Train Loss 0.27057 | Train Precision 0.918744 | Loss Val 0.26709 | Val Precision  0.919531\n",
            "------------------------------------------------------------------------------------------------------------------------\n",
            "Epoch  17: | Train Loss 0.26410 | Train Precision 0.920623 | Loss Val 0.24844 | Val Precision  0.926660\n",
            "------------------------------------------------------------------------------------------------------------------------\n",
            "Epoch  18: | Train Loss 0.25832 | Train Precision 0.922845 | Loss Val 0.24664 | Val Precision  0.928320\n",
            "------------------------------------------------------------------------------------------------------------------------\n",
            "Epoch  19: | Train Loss 0.25350 | Train Precision 0.924690 | Loss Val 0.23741 | Val Precision  0.929395\n",
            "------------------------------------------------------------------------------------------------------------------------\n",
            "Epoch  20: | Train Loss 0.24907 | Train Precision 0.925848 | Loss Val 0.24146 | Val Precision  0.929980\n",
            "------------------------------------------------------------------------------------------------------------------------\n",
            "Epoch  21: | Train Loss 0.24500 | Train Precision 0.926729 | Loss Val 0.23351 | Val Precision  0.930078\n",
            "------------------------------------------------------------------------------------------------------------------------\n",
            "Epoch  22: | Train Loss 0.24218 | Train Precision 0.927172 | Loss Val 0.23736 | Val Precision  0.931543\n",
            "------------------------------------------------------------------------------------------------------------------------\n",
            "Epoch  23: | Train Loss 0.23775 | Train Precision 0.928408 | Loss Val 0.23569 | Val Precision  0.927148\n",
            "------------------------------------------------------------------------------------------------------------------------\n",
            "Epoch  24: | Train Loss 0.23517 | Train Precision 0.928901 | Loss Val 0.23336 | Val Precision  0.930469\n",
            "------------------------------------------------------------------------------------------------------------------------\n",
            "Epoch  25: | Train Loss 0.23203 | Train Precision 0.929798 | Loss Val 0.23324 | Val Precision  0.931543\n",
            "------------------------------------------------------------------------------------------------------------------------\n"
          ]
        }
      ]
    },
    {
      "cell_type": "markdown",
      "source": [
        "#Images Zip with Deep Autoencoders"
      ],
      "metadata": {
        "id": "ajkoBAsnYstX"
      }
    },
    {
      "cell_type": "code",
      "source": [
        "class autoencoder(nn.Module):\n",
        "    def __init__(self):\n",
        "        super().__init__()\n",
        "        # encoder layer\n",
        "        self.encoder0 = nn.Linear(in_features = 784, out_features = 128)\n",
        "        self.encoder1 = nn.Linear(128, 64)\n",
        "        self.encoder2 = nn.Linear(64, 32)\n",
        "        \n",
        "        # decoder layer\n",
        "        self.decoder0 = nn.Linear(32, 64)\n",
        "        self.decoder1 = nn.Linear(64, 128)\n",
        "        self.decoder2 = nn.Linear(128, 784)\n",
        "        \n",
        "        # activation layer\n",
        "        self.activation0 = nn.ReLU()\n",
        "        self.activation1 = nn.Sigmoid()\n",
        "    \n",
        "    def forward(self, X):\n",
        "        # encoder structure\n",
        "        X = self.activation0(self.encoder0(X))\n",
        "        X = self.activation0(self.encoder1(X))\n",
        "        X = self.activation0(self.encoder2(X))\n",
        "        \n",
        "        # decoder structure\n",
        "        X = self.activation0(self.decoder0(X))\n",
        "        X = self.activation0(self.decoder1(X))\n",
        "        X = self.activation1(self.decoder2(X))\n",
        "        return X"
      ],
      "metadata": {
        "id": "igjRGgq4Rrne"
      },
      "execution_count": 29,
      "outputs": []
    },
    {
      "cell_type": "code",
      "metadata": {
        "id": "yY9lDtY8BqnE",
        "outputId": "b6538fe9-ec0c-4540-ecab-4aa592a064e3",
        "colab": {
          "base_uri": "https://localhost:8080/"
        }
      },
      "source": [
        "device = torch.device('cuda') if torch.cuda.is_available() else torch.device('cpu')\n",
        "device"
      ],
      "execution_count": 30,
      "outputs": [
        {
          "output_type": "execute_result",
          "data": {
            "text/plain": [
              "device(type='cpu')"
            ]
          },
          "metadata": {},
          "execution_count": 30
        }
      ]
    },
    {
      "cell_type": "code",
      "metadata": {
        "id": "-FnosQO7BspO",
        "outputId": "66796bcc-db52-46cf-ff16-abc4fcf4b193",
        "colab": {
          "base_uri": "https://localhost:8080/"
        }
      },
      "source": [
        "model = autoencoder()\n",
        "model.to(device)"
      ],
      "execution_count": 31,
      "outputs": [
        {
          "output_type": "execute_result",
          "data": {
            "text/plain": [
              "autoencoder(\n",
              "  (encoder0): Linear(in_features=784, out_features=128, bias=True)\n",
              "  (encoder1): Linear(in_features=128, out_features=64, bias=True)\n",
              "  (encoder2): Linear(in_features=64, out_features=32, bias=True)\n",
              "  (decoder0): Linear(in_features=32, out_features=64, bias=True)\n",
              "  (decoder1): Linear(in_features=64, out_features=128, bias=True)\n",
              "  (decoder2): Linear(in_features=128, out_features=784, bias=True)\n",
              "  (activation0): ReLU()\n",
              "  (activation1): Sigmoid()\n",
              ")"
            ]
          },
          "metadata": {},
          "execution_count": 31
        }
      ]
    },
    {
      "cell_type": "code",
      "metadata": {
        "id": "X-YnfblQBxKG"
      },
      "source": [
        "criterion = nn.BCELoss()\n",
        "optimizer = optim.Adam(model.parameters())"
      ],
      "execution_count": 32,
      "outputs": []
    },
    {
      "cell_type": "code",
      "metadata": {
        "id": "OxqnJdUsELbQ",
        "outputId": "ab35c7d0-2e5b-4559-c977-7df0e60c83a2",
        "colab": {
          "base_uri": "https://localhost:8080/"
        }
      },
      "source": [
        "for epoch in range(20):\n",
        "    running_loss_train = 0.\n",
        "    for data in loader_train:\n",
        "        model.train()\n",
        "        inputs, _ = data \n",
        "        inputs = inputs.to(device)\n",
        "        inputs = inputs.view(-1, 28*28)\n",
        "        \n",
        "        optimizer.zero_grad()\n",
        "\n",
        "        outputs = model(inputs)\n",
        "        loss = criterion(outputs, inputs.view(*outputs.shape))\n",
        "        loss.backward()\n",
        "       \n",
        "        optimizer.step()\n",
        "\n",
        "        running_loss_train += loss.item()\n",
        "    \n",
        "    # validation\n",
        "    running_loss_val = 0.\n",
        "    for data in loader_val:\n",
        "        model.eval()\n",
        "        inputs, _ = data\n",
        "        inputs = inputs.to(device)\n",
        "        inputs = inputs.view(-1, 28*28)\n",
        "        outputs = model(inputs)\n",
        "        loss = criterion(outputs, inputs.view(*outputs.shape))\n",
        "        running_loss_val += loss.item()\n",
        "\n",
        "    \n",
        "    print('Epoch{:3d}: Train Loss {:.5f} | Val Loss {:.5f}'.format(epoch + 1, running_loss_train/len(loader_train), running_loss_val/len(loader_val)))\n",
        "    print('-'*80)"
      ],
      "execution_count": 33,
      "outputs": [
        {
          "output_type": "stream",
          "name": "stdout",
          "text": [
            "Epoch  1: Train Loss 0.29722 | Val Loss 0.24413\n",
            "--------------------------------------------------------------------------------\n",
            "Epoch  2: Train Loss 0.21184 | Val Loss 0.18065\n",
            "--------------------------------------------------------------------------------\n",
            "Epoch  3: Train Loss 0.16537 | Val Loss 0.15279\n",
            "--------------------------------------------------------------------------------\n",
            "Epoch  4: Train Loss 0.14806 | Val Loss 0.14291\n",
            "--------------------------------------------------------------------------------\n",
            "Epoch  5: Train Loss 0.14011 | Val Loss 0.13496\n",
            "--------------------------------------------------------------------------------\n",
            "Epoch  6: Train Loss 0.13262 | Val Loss 0.12712\n",
            "--------------------------------------------------------------------------------\n",
            "Epoch  7: Train Loss 0.12694 | Val Loss 0.12286\n",
            "--------------------------------------------------------------------------------\n",
            "Epoch  8: Train Loss 0.12335 | Val Loss 0.12039\n",
            "--------------------------------------------------------------------------------\n",
            "Epoch  9: Train Loss 0.12069 | Val Loss 0.11760\n",
            "--------------------------------------------------------------------------------\n",
            "Epoch 10: Train Loss 0.11857 | Val Loss 0.11589\n",
            "--------------------------------------------------------------------------------\n",
            "Epoch 11: Train Loss 0.11670 | Val Loss 0.11515\n",
            "--------------------------------------------------------------------------------\n",
            "Epoch 12: Train Loss 0.11490 | Val Loss 0.11270\n",
            "--------------------------------------------------------------------------------\n",
            "Epoch 13: Train Loss 0.11292 | Val Loss 0.11047\n",
            "--------------------------------------------------------------------------------\n",
            "Epoch 14: Train Loss 0.11096 | Val Loss 0.10916\n",
            "--------------------------------------------------------------------------------\n",
            "Epoch 15: Train Loss 0.10906 | Val Loss 0.10682\n",
            "--------------------------------------------------------------------------------\n",
            "Epoch 16: Train Loss 0.10731 | Val Loss 0.10508\n",
            "--------------------------------------------------------------------------------\n",
            "Epoch 17: Train Loss 0.10584 | Val Loss 0.10357\n",
            "--------------------------------------------------------------------------------\n",
            "Epoch 18: Train Loss 0.10455 | Val Loss 0.10399\n",
            "--------------------------------------------------------------------------------\n",
            "Epoch 19: Train Loss 0.10344 | Val Loss 0.10171\n",
            "--------------------------------------------------------------------------------\n",
            "Epoch 20: Train Loss 0.10245 | Val Loss 0.10087\n",
            "--------------------------------------------------------------------------------\n"
          ]
        }
      ]
    },
    {
      "cell_type": "code",
      "source": [
        "class encoder2(nn.Module):\n",
        "    def __init__(self):\n",
        "        super().__init__()\n",
        "        self.encoder0 = list(model.children())[0]\n",
        "        self.encoder1 = list(model.children())[1]\n",
        "        self.encoder2 = list(model.children())[2]      \n",
        "        self.activation0 = list(model.children())[6]\n",
        "    \n",
        "    def forward(self, X):\n",
        "        X = self.activation0(self.encoder0(X))\n",
        "        X = self.activation0(self.encoder1(X))\n",
        "        X = self.activation0(self.encoder2(X))     \n",
        "        return X"
      ],
      "metadata": {
        "id": "BLRI_ofxY7Ma"
      },
      "execution_count": 34,
      "outputs": []
    },
    {
      "cell_type": "code",
      "source": [
        "model_e = encoder2()\n",
        "model_e.to(device)"
      ],
      "metadata": {
        "colab": {
          "base_uri": "https://localhost:8080/"
        },
        "id": "0UW29GDcZ92l",
        "outputId": "81297ddc-44f9-4ca0-b292-aec95b817eda"
      },
      "execution_count": 35,
      "outputs": [
        {
          "output_type": "execute_result",
          "data": {
            "text/plain": [
              "encoder2(\n",
              "  (encoder0): Linear(in_features=784, out_features=128, bias=True)\n",
              "  (encoder1): Linear(in_features=128, out_features=64, bias=True)\n",
              "  (encoder2): Linear(in_features=64, out_features=32, bias=True)\n",
              "  (activation0): ReLU()\n",
              ")"
            ]
          },
          "metadata": {},
          "execution_count": 35
        }
      ]
    },
    {
      "cell_type": "code",
      "source": [
        "class decoder2(nn.Module):\n",
        "    def __init__(self):\n",
        "        super().__init__()\n",
        "        self.decoder0 = list(model.children())[3]\n",
        "        self.decoder1 = list(model.children())[4]\n",
        "        self.decoder2 = list(model.children())[5]        \n",
        "        self.activation0 = list(model.children())[6]\n",
        "        self.activation1 = list(model.children())[7]\n",
        "    \n",
        "    def forward(self, X):\n",
        "        X = self.activation0(self.decoder0(X))\n",
        "        X = self.activation0(self.decoder1(X))\n",
        "        X = self.activation1(self.decoder2(X))       \n",
        "        return X"
      ],
      "metadata": {
        "id": "M0HDgrb4aC6C"
      },
      "execution_count": 36,
      "outputs": []
    },
    {
      "cell_type": "code",
      "source": [
        "model_e2 = decoder2()\n",
        "model_e2.to(device)"
      ],
      "metadata": {
        "colab": {
          "base_uri": "https://localhost:8080/"
        },
        "id": "9ke2YX91aOKT",
        "outputId": "347220f8-670b-499f-82fa-2759e21cbd0c"
      },
      "execution_count": 37,
      "outputs": [
        {
          "output_type": "execute_result",
          "data": {
            "text/plain": [
              "decoder2(\n",
              "  (decoder0): Linear(in_features=32, out_features=64, bias=True)\n",
              "  (decoder1): Linear(in_features=64, out_features=128, bias=True)\n",
              "  (decoder2): Linear(in_features=128, out_features=784, bias=True)\n",
              "  (activation0): ReLU()\n",
              "  (activation1): Sigmoid()\n",
              ")"
            ]
          },
          "metadata": {},
          "execution_count": 37
        }
      ]
    },
    {
      "cell_type": "code",
      "source": [
        ""
      ],
      "metadata": {
        "id": "5pWXvkMKaQa1"
      },
      "execution_count": 37,
      "outputs": []
    },
    {
      "cell_type": "code",
      "metadata": {
        "id": "eYnre_ClEGPf"
      },
      "source": [
        "numero_imagens = 10\n",
        "\n",
        "imagens_teste = next(iter(loader_val))[0][:numero_imagens]\n",
        "imagens_teste = imagens_teste.to(device)\n",
        "imagens_teste = imagens_teste.view(-1, 28*28)"
      ],
      "execution_count": 38,
      "outputs": []
    },
    {
      "cell_type": "code",
      "metadata": {
        "id": "2Xt02P3FY1bm",
        "colab": {
          "base_uri": "https://localhost:8080/"
        },
        "outputId": "f35fbc12-4195-471c-9ba7-8626f585c334"
      },
      "source": [
        "imagens_teste.shape"
      ],
      "execution_count": 39,
      "outputs": [
        {
          "output_type": "execute_result",
          "data": {
            "text/plain": [
              "torch.Size([10, 784])"
            ]
          },
          "metadata": {},
          "execution_count": 39
        }
      ]
    },
    {
      "cell_type": "code",
      "metadata": {
        "id": "aMc4CkouEWPB"
      },
      "source": [
        "# Imagens codificadas \n",
        "model_e.eval()\n",
        "imagens_codificadas = model_e(imagens_teste)"
      ],
      "execution_count": 40,
      "outputs": []
    },
    {
      "cell_type": "code",
      "metadata": {
        "id": "CJDCLxMlYy0U",
        "colab": {
          "base_uri": "https://localhost:8080/"
        },
        "outputId": "dd2d3f32-5255-4636-b410-8fd173173cd6"
      },
      "source": [
        "imagens_codificadas.shape"
      ],
      "execution_count": 41,
      "outputs": [
        {
          "output_type": "execute_result",
          "data": {
            "text/plain": [
              "torch.Size([10, 32])"
            ]
          },
          "metadata": {},
          "execution_count": 41
        }
      ]
    },
    {
      "cell_type": "code",
      "metadata": {
        "id": "JnKBSX8oEZok"
      },
      "source": [
        "# Imagens decodificadas\n",
        "model_e2.eval()\n",
        "imagens_decodificadas = model_e2(imagens_codificadas)"
      ],
      "execution_count": 42,
      "outputs": []
    },
    {
      "cell_type": "code",
      "metadata": {
        "id": "oxdiecT2Y5Ro",
        "colab": {
          "base_uri": "https://localhost:8080/"
        },
        "outputId": "6d346700-c2be-4f95-ea35-80e072eb3d01"
      },
      "source": [
        "imagens_decodificadas.shape"
      ],
      "execution_count": 43,
      "outputs": [
        {
          "output_type": "execute_result",
          "data": {
            "text/plain": [
              "torch.Size([10, 784])"
            ]
          },
          "metadata": {},
          "execution_count": 43
        }
      ]
    },
    {
      "cell_type": "code",
      "metadata": {
        "id": "iBRj29IbEdDZ"
      },
      "source": [
        "# Formatando as imagens para visualização\n",
        "imagens_teste = imagens_teste.detach().cpu().numpy().reshape(-1, 28, 28)\n",
        "imagens_codificadas = imagens_codificadas.detach().cpu().numpy().reshape(-1,8,4)\n",
        "imagens_decodificadas = imagens_decodificadas.detach().cpu().numpy().reshape(-1,28,28)"
      ],
      "execution_count": 44,
      "outputs": []
    },
    {
      "cell_type": "code",
      "metadata": {
        "id": "vR-wMRMyErVN",
        "outputId": "27faf1c3-8196-4441-a455-be483204a090",
        "colab": {
          "base_uri": "https://localhost:8080/",
          "height": 235
        }
      },
      "source": [
        "fig, axes = plt.subplots(nrows = 3, ncols = numero_imagens, figsize = (10, 4))\n",
        "for imagens, ax_row in zip([imagens_teste, imagens_codificadas, \n",
        "                            imagens_decodificadas], axes):\n",
        "    for img, ax in zip(imagens, ax_row):\n",
        "        ax.imshow(img, cmap = 'gray')\n",
        "        ax.get_xaxis().set_visible(False)\n",
        "        ax.get_yaxis().set_visible(False)"
      ],
      "execution_count": 45,
      "outputs": [
        {
          "output_type": "display_data",
          "data": {
            "text/plain": [
              "<Figure size 720x288 with 30 Axes>"
            ],
            "image/png": "[encoded data removed]"
          },
          "metadata": {
            "needs_background": "light"
          }
        }
      ]
    },
    {
      "cell_type": "code",
      "source": [
        ""
      ],
      "metadata": {
        "id": "-Vskrn2sqC8f"
      },
      "execution_count": null,
      "outputs": []
    }
  ]
}