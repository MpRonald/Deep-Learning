{
  "nbformat": 4,
  "nbformat_minor": 0,
  "metadata": {
    "colab": {
      "provenance": [],
      "collapsed_sections": [],
      "authorship_tag": "ABX9TyObAHqgzdo38w68sOiA4UXF",
      "include_colab_link": true
    },
    "kernelspec": {
      "name": "python3",
      "display_name": "Python 3"
    },
    "language_info": {
      "name": "python"
    },
    "accelerator": "GPU",
    "gpuClass": "standard"
  },
  "cells": [
    {
      "cell_type": "markdown",
      "metadata": {
        "id": "view-in-github",
        "colab_type": "text"
      },
      "source": [
        "<a href=\"https://colab.research.google.com/github/MpRonald/Deep-Learning/blob/main/PyTorch_Training_Neural_Network.ipynb\" target=\"_parent\"><img src=\"https://colab.research.google.com/assets/colab-badge.svg\" alt=\"Open In Colab\"/></a>"
      ]
    },
    {
      "cell_type": "code",
      "execution_count": 174,
      "metadata": {
        "colab": {
          "base_uri": "https://localhost:8080/"
        },
        "id": "WJZJnm3GPAba",
        "outputId": "980a9cbf-bafc-4afd-b57d-ce4b6e712181"
      },
      "outputs": [
        {
          "output_type": "stream",
          "name": "stdout",
          "text": [
            "Drive already mounted at /content/drive; to attempt to forcibly remount, call drive.mount(\"/content/drive\", force_remount=True).\n"
          ]
        }
      ],
      "source": [
        "from google.colab import drive\n",
        "drive.mount('/content/drive')"
      ]
    },
    {
      "cell_type": "markdown",
      "source": [
        "###Loss Function"
      ],
      "metadata": {
        "id": "Z_u0NFhYVbiE"
      }
    },
    {
      "cell_type": "code",
      "source": [
        "import torch\n",
        "from torch import nn"
      ],
      "metadata": {
        "id": "VmzQ3KOiSxou"
      },
      "execution_count": 175,
      "outputs": []
    },
    {
      "cell_type": "code",
      "source": [
        "if torch.cuda.is_available():\n",
        "    device = torch.device('cuda')\n",
        "else:\n",
        "    device = torch.device('cpu')\n",
        "print(device)"
      ],
      "metadata": {
        "colab": {
          "base_uri": "https://localhost:8080/"
        },
        "id": "oUWHkUEcXBwX",
        "outputId": "079413c6-88ec-47ea-b124-a095d16aae67"
      },
      "execution_count": 176,
      "outputs": [
        {
          "output_type": "stream",
          "name": "stdout",
          "text": [
            "cuda\n"
          ]
        }
      ]
    },
    {
      "cell_type": "code",
      "source": [
        "from sklearn import datasets\n",
        "\n",
        "wine = datasets.load_wine()\n",
        "data = wine.data\n",
        "target = wine.target\n",
        "\n",
        "print(data.shape, target.shape)\n",
        "print(wine.feature_names, wine.target_names)"
      ],
      "metadata": {
        "colab": {
          "base_uri": "https://localhost:8080/"
        },
        "id": "OPP_KdkTZOLz",
        "outputId": "acde001f-ec29-4e74-90ff-1f9f04c7c3a1"
      },
      "execution_count": 177,
      "outputs": [
        {
          "output_type": "stream",
          "name": "stdout",
          "text": [
            "(178, 13) (178,)\n",
            "['alcohol', 'malic_acid', 'ash', 'alcalinity_of_ash', 'magnesium', 'total_phenols', 'flavanoids', 'nonflavanoid_phenols', 'proanthocyanins', 'color_intensity', 'hue', 'od280/od315_of_diluted_wines', 'proline'] ['class_0' 'class_1' 'class_2']\n"
          ]
        }
      ]
    },
    {
      "cell_type": "code",
      "source": [
        "data[0:2]"
      ],
      "metadata": {
        "colab": {
          "base_uri": "https://localhost:8080/"
        },
        "id": "HFdRJM0wZ04F",
        "outputId": "20e9cceb-96d0-439e-9ff0-4e273e72aedf"
      },
      "execution_count": 178,
      "outputs": [
        {
          "output_type": "execute_result",
          "data": {
            "text/plain": [
              "array([[1.423e+01, 1.710e+00, 2.430e+00, 1.560e+01, 1.270e+02, 2.800e+00,\n",
              "        3.060e+00, 2.800e-01, 2.290e+00, 5.640e+00, 1.040e+00, 3.920e+00,\n",
              "        1.065e+03],\n",
              "       [1.320e+01, 1.780e+00, 2.140e+00, 1.120e+01, 1.000e+02, 2.650e+00,\n",
              "        2.760e+00, 2.600e-01, 1.280e+00, 4.380e+00, 1.050e+00, 3.400e+00,\n",
              "        1.050e+03]])"
            ]
          },
          "metadata": {},
          "execution_count": 178
        }
      ]
    },
    {
      "cell_type": "code",
      "source": [
        "target[0:20]"
      ],
      "metadata": {
        "colab": {
          "base_uri": "https://localhost:8080/"
        },
        "id": "PvZJiMR1Z_OO",
        "outputId": "107e4760-21c0-4ade-be27-c199b959a919"
      },
      "execution_count": 179,
      "outputs": [
        {
          "output_type": "execute_result",
          "data": {
            "text/plain": [
              "array([0, 0, 0, 0, 0, 0, 0, 0, 0, 0, 0, 0, 0, 0, 0, 0, 0, 0, 0, 0])"
            ]
          },
          "metadata": {},
          "execution_count": 179
        }
      ]
    },
    {
      "cell_type": "code",
      "source": [
        "class net_classifier(nn.Module):\n",
        "    \n",
        "    def __init__(self, input_size, hidden_size, out_size, dim_softmax=None):\n",
        "        super(net_classifier, self).__init__()\n",
        "        self.hidden = nn.Linear(input_size, hidden_size)\n",
        "        self.relu = nn.ReLU()\n",
        "        self.out = nn.Linear(hidden_size, out_size)\n",
        "        self.softmax = nn.Softmax(dim=dim_softmax)\n",
        "\n",
        "    def forward(self, X):\n",
        "        features = self.relu(self.hidden(X))\n",
        "        output = self.softmax(self.out(features))\n",
        "\n",
        "        return output    "
      ],
      "metadata": {
        "id": "MnKtiEzaaDfa"
      },
      "execution_count": 180,
      "outputs": []
    },
    {
      "cell_type": "code",
      "source": [
        "input_size = data.shape[1]\n",
        "hidden_size = 32\n",
        "out_size = len(wine.target_names)"
      ],
      "metadata": {
        "id": "OlogP59_lJct"
      },
      "execution_count": 181,
      "outputs": []
    },
    {
      "cell_type": "code",
      "source": [
        "net = net_classifier(input_size, hidden_size, out_size).to(device) # cast in GPU"
      ],
      "metadata": {
        "id": "keQKva3dlTrW"
      },
      "execution_count": 182,
      "outputs": []
    },
    {
      "cell_type": "code",
      "source": [
        "net"
      ],
      "metadata": {
        "colab": {
          "base_uri": "https://localhost:8080/"
        },
        "id": "osG1G5eNlggc",
        "outputId": "e07eb587-1e30-42fa-b2af-fe0b85538fe1"
      },
      "execution_count": 183,
      "outputs": [
        {
          "output_type": "execute_result",
          "data": {
            "text/plain": [
              "net_classifier(\n",
              "  (hidden): Linear(in_features=13, out_features=32, bias=True)\n",
              "  (relu): ReLU()\n",
              "  (out): Linear(in_features=32, out_features=3, bias=True)\n",
              "  (softmax): Softmax(dim=None)\n",
              ")"
            ]
          },
          "metadata": {},
          "execution_count": 183
        }
      ]
    },
    {
      "cell_type": "code",
      "source": [
        "criterion = nn.CrossEntropyLoss().to(device)\n",
        "X_tensor = torch.from_numpy(data).float().to(device)\n",
        "y_tensor = torch.from_numpy(target).to(device)"
      ],
      "metadata": {
        "id": "YMqcL4IOms1V"
      },
      "execution_count": 184,
      "outputs": []
    },
    {
      "cell_type": "code",
      "source": [
        "pred = net(X_tensor)"
      ],
      "metadata": {
        "colab": {
          "base_uri": "https://localhost:8080/"
        },
        "id": "gV2iQ4s6oIfg",
        "outputId": "1fa45845-3883-4c9d-f3b4-dba703b7cf2f"
      },
      "execution_count": 185,
      "outputs": [
        {
          "output_type": "stream",
          "name": "stderr",
          "text": [
            "/usr/local/lib/python3.7/dist-packages/ipykernel_launcher.py:12: UserWarning: Implicit dimension choice for softmax has been deprecated. Change the call to include dim=X as an argument.\n",
            "  if sys.path[0] == '':\n"
          ]
        }
      ]
    },
    {
      "cell_type": "code",
      "source": [
        "for i in range(0,data.shape[0]):\n",
        "    loss = criterion(pred[i], y_tensor[i])\n",
        "    if i % 20 == 0:\n",
        "        print(f'Loop: {i} - {loss}')"
      ],
      "metadata": {
        "colab": {
          "base_uri": "https://localhost:8080/"
        },
        "id": "iSB0FhHfoaRf",
        "outputId": "f1361068-b8b6-4714-acce-c59663370918"
      },
      "execution_count": 186,
      "outputs": [
        {
          "output_type": "stream",
          "name": "stdout",
          "text": [
            "Loop: 0 - 1.5514447689056396\n",
            "Loop: 20 - 1.5514445304870605\n",
            "Loop: 40 - 1.5514445304870605\n",
            "Loop: 60 - 1.551444411277771\n",
            "Loop: 80 - 1.546426773071289\n",
            "Loop: 100 - 1.55144464969635\n",
            "Loop: 120 - 1.5514440536499023\n",
            "Loop: 140 - 0.5514475107192993\n",
            "Loop: 160 - 0.5514635443687439\n"
          ]
        }
      ]
    },
    {
      "cell_type": "markdown",
      "source": [
        "##Regression"
      ],
      "metadata": {
        "id": "xgESO8_9qhzd"
      }
    },
    {
      "cell_type": "code",
      "source": [
        "diabetes = datasets.load_diabetes()\n",
        "data = diabetes.data\n",
        "target = diabetes.target"
      ],
      "metadata": {
        "id": "TRlXfaAEozAk"
      },
      "execution_count": 187,
      "outputs": []
    },
    {
      "cell_type": "code",
      "source": [
        "input_size = data.shape[1]\n",
        "hidden_size = 32\n",
        "out_size = 1 # diabetes progression"
      ],
      "metadata": {
        "id": "b_wubrc-rM6J"
      },
      "execution_count": 188,
      "outputs": []
    },
    {
      "cell_type": "code",
      "source": [
        "net = net_classifier(input_size, hidden_size, out_size).to(device) # cast in GPU\n",
        "net"
      ],
      "metadata": {
        "colab": {
          "base_uri": "https://localhost:8080/"
        },
        "id": "i1ZQwA2vr6sP",
        "outputId": "1bd9f04e-f23b-4efb-ee0f-9011ccfcdd6a"
      },
      "execution_count": 189,
      "outputs": [
        {
          "output_type": "execute_result",
          "data": {
            "text/plain": [
              "net_classifier(\n",
              "  (hidden): Linear(in_features=10, out_features=32, bias=True)\n",
              "  (relu): ReLU()\n",
              "  (out): Linear(in_features=32, out_features=1, bias=True)\n",
              "  (softmax): Softmax(dim=None)\n",
              ")"
            ]
          },
          "metadata": {},
          "execution_count": 189
        }
      ]
    },
    {
      "cell_type": "code",
      "source": [
        "criterion = nn.L1Loss().to(device)\n",
        "X_tensor = torch.from_numpy(data).float().to(device)\n",
        "y_tensor = torch.from_numpy(target).float().to(device)\n",
        "\n",
        "X_tensor.shape, y_tensor.shape"
      ],
      "metadata": {
        "colab": {
          "base_uri": "https://localhost:8080/"
        },
        "id": "aQ2rhXpusFVH",
        "outputId": "8931a1bc-785f-43f9-836e-9bd6e7e37579"
      },
      "execution_count": 190,
      "outputs": [
        {
          "output_type": "execute_result",
          "data": {
            "text/plain": [
              "(torch.Size([442, 10]), torch.Size([442]))"
            ]
          },
          "metadata": {},
          "execution_count": 190
        }
      ]
    },
    {
      "cell_type": "code",
      "source": [
        "pred = net(X_tensor)"
      ],
      "metadata": {
        "colab": {
          "base_uri": "https://localhost:8080/"
        },
        "id": "wIWgjlgCscdK",
        "outputId": "8c4dc8af-6a04-4518-8930-2a0b6787e30b"
      },
      "execution_count": 191,
      "outputs": [
        {
          "output_type": "stream",
          "name": "stderr",
          "text": [
            "/usr/local/lib/python3.7/dist-packages/ipykernel_launcher.py:12: UserWarning: Implicit dimension choice for softmax has been deprecated. Change the call to include dim=X as an argument.\n",
            "  if sys.path[0] == '':\n"
          ]
        }
      ]
    },
    {
      "cell_type": "code",
      "source": [
        "loss = criterion(pred.squeeze(), y_tensor)\n",
        "print(loss.data)"
      ],
      "metadata": {
        "colab": {
          "base_uri": "https://localhost:8080/"
        },
        "id": "KpKbSHrMwaS4",
        "outputId": "f0b1e1d1-653a-4cd3-f9ab-26c193e3faa1"
      },
      "execution_count": 192,
      "outputs": [
        {
          "output_type": "stream",
          "name": "stdout",
          "text": [
            "tensor(151.1335, device='cuda:0')\n"
          ]
        }
      ]
    },
    {
      "cell_type": "markdown",
      "source": [
        "## Optimization Network"
      ],
      "metadata": {
        "id": "mL5Ei9sIxUHB"
      }
    },
    {
      "cell_type": "code",
      "source": [
        "import matplotlib.pyplot as plt\n",
        "\n",
        "features = [0,9]\n",
        "\n",
        "wine = datasets.load_wine()\n",
        "data = wine.data[:, features]\n",
        "targets = wine.target\n",
        "\n",
        "data.shape, targets.shape"
      ],
      "metadata": {
        "id": "ohMMKb6Uwdbm",
        "colab": {
          "base_uri": "https://localhost:8080/"
        },
        "outputId": "4a04b54d-65f4-40d4-e8b2-73cf512ba0bc"
      },
      "execution_count": 193,
      "outputs": [
        {
          "output_type": "execute_result",
          "data": {
            "text/plain": [
              "((178, 2), (178,))"
            ]
          },
          "metadata": {},
          "execution_count": 193
        }
      ]
    },
    {
      "cell_type": "code",
      "source": [
        "plt.scatter(data[:,0], data[:,1], c=targets, s=15, cmap=plt.cm.brg)\n",
        "plt.xlabel(wine.feature_names[features[0]])\n",
        "plt.ylabel(wine.feature_names[features[1]]);"
      ],
      "metadata": {
        "colab": {
          "base_uri": "https://localhost:8080/",
          "height": 279
        },
        "id": "dT4HaSouuQoX",
        "outputId": "51e48412-2c24-4bc3-9b62-dc7380198eb4"
      },
      "execution_count": 194,
      "outputs": [
        {
          "output_type": "display_data",
          "data": {
            "text/plain": [
              "<Figure size 432x288 with 1 Axes>"
            ],
            "image/png": "[encoded data removed]"
          },
          "metadata": {
            "needs_background": "light"
          }
        }
      ]
    },
    {
      "cell_type": "code",
      "source": [
        "# data normalization\n",
        "from sklearn.preprocessing import StandardScaler\n",
        "\n",
        "scaler = StandardScaler()\n",
        "data = scaler.fit_transform(data)"
      ],
      "metadata": {
        "id": "qbH0lIAPu0Ir"
      },
      "execution_count": 195,
      "outputs": []
    },
    {
      "cell_type": "code",
      "source": [
        "input_size = data.shape[1]\n",
        "hidden_size = 32\n",
        "out_size = len(wine.target_names) # class of numbers"
      ],
      "metadata": {
        "id": "UyAB8R3svaE5"
      },
      "execution_count": 196,
      "outputs": []
    },
    {
      "cell_type": "code",
      "source": [
        "net = nn.Sequential(\n",
        "    nn.Linear(input_size, hidden_size),\n",
        "    nn.ReLU(),\n",
        "    nn.Linear(hidden_size, out_size),\n",
        "    nn.Softmax()\n",
        ")"
      ],
      "metadata": {
        "id": "S8BzKKkFv3MB"
      },
      "execution_count": 197,
      "outputs": []
    },
    {
      "cell_type": "code",
      "source": [
        "net = net.to(device)\n",
        "net"
      ],
      "metadata": {
        "colab": {
          "base_uri": "https://localhost:8080/"
        },
        "id": "jWkaASMLwlaK",
        "outputId": "66602fa3-835d-4e6f-ef18-a155566b1bca"
      },
      "execution_count": 198,
      "outputs": [
        {
          "output_type": "execute_result",
          "data": {
            "text/plain": [
              "Sequential(\n",
              "  (0): Linear(in_features=2, out_features=32, bias=True)\n",
              "  (1): ReLU()\n",
              "  (2): Linear(in_features=32, out_features=3, bias=True)\n",
              "  (3): Softmax(dim=None)\n",
              ")"
            ]
          },
          "metadata": {},
          "execution_count": 198
        }
      ]
    },
    {
      "cell_type": "code",
      "source": [
        "from torch import optim\n",
        "\n",
        "# Loss Function\n",
        "criterion = nn.CrossEntropyLoss().to(device)\n",
        "\n",
        "# Stochastic Gradient Descent\n",
        "optimizer = optim.SGD(net.parameters(), lr=1e-3)"
      ],
      "metadata": {
        "id": "3n6sCSr2wqzF"
      },
      "execution_count": 199,
      "outputs": []
    },
    {
      "cell_type": "code",
      "source": [
        "X = torch.FloatTensor(data).to(device) # GPU\n",
        "y = torch.LongTensor(targets).to(device)"
      ],
      "metadata": {
        "id": "KGi-UGk9zeDL"
      },
      "execution_count": 200,
      "outputs": []
    },
    {
      "cell_type": "code",
      "source": [
        "import numpy as np \n",
        "\n",
        "def plot_boundary(X, y, model):\n",
        "  x_min, x_max = X[:, 0].min()-0.1, X[:, 0].max()+0.1\n",
        "  y_min, y_max = X[:, 1].min()-0.1, X[:, 1].max()+0.1\n",
        "  \n",
        "  spacing = min(x_max - x_min, y_max - y_min) / 100\n",
        "  \n",
        "  XX, YY = np.meshgrid(np.arange(x_min, x_max, spacing),\n",
        "                       np.arange(y_min, y_max, spacing))\n",
        "  \n",
        "  data = np.hstack((XX.ravel().reshape(-1,1), \n",
        "                    YY.ravel().reshape(-1,1)))\n",
        "  \n",
        "  # For binary problems\n",
        "  # db_prob = model(Variable(torch.Tensor(data)).cuda() )\n",
        "  # clf = np.where(db_prob.cpu().data < 0.5,0,1)\n",
        "  \n",
        "  # For multi-class problems\n",
        "  db_prob = model(torch.Tensor(data).to(device) )\n",
        "  clf = np.argmax(db_prob.cpu().data.numpy(), axis=-1)\n",
        "  \n",
        "  Z = clf.reshape(XX.shape)\n",
        "  \n",
        "  plt.contourf(XX, YY, Z, cmap=plt.cm.brg, alpha=0.5)\n",
        "  plt.scatter(X[:,0], X[:,1], c=y, edgecolors='k', s=25, cmap=plt.cm.brg)"
      ],
      "metadata": {
        "id": "Lg3-hPS61dWU"
      },
      "execution_count": 201,
      "outputs": []
    },
    {
      "cell_type": "code",
      "source": [
        "for i in range(200):\n",
        "  # Forward \n",
        "  pred = net(X)\n",
        "  loss = criterion(pred, y)\n",
        "\n",
        "  # Backward\n",
        "  loss.backward()\n",
        "  optimizer.step()\n",
        "\n",
        "  if i % 50 == 0:\n",
        "    plt.figure()\n",
        "    plot_boundary(data, targets, net)"
      ],
      "metadata": {
        "colab": {
          "base_uri": "https://localhost:8080/",
          "height": 1000
        },
        "id": "5YxFaoWl04sP",
        "outputId": "3e377acd-9977-4888-cfe4-f139b2265f0e"
      },
      "execution_count": 202,
      "outputs": [
        {
          "output_type": "stream",
          "name": "stderr",
          "text": [
            "/usr/local/lib/python3.7/dist-packages/torch/nn/modules/container.py:139: UserWarning: Implicit dimension choice for softmax has been deprecated. Change the call to include dim=X as an argument.\n",
            "  input = module(input)\n"
          ]
        },
        {
          "output_type": "display_data",
          "data": {
            "text/plain": [
              "<Figure size 432x288 with 1 Axes>"
            ],
            "image/png": "[encoded data removed]"
          },
          "metadata": {
            "needs_background": "light"
          }
        },
        {
          "output_type": "display_data",
          "data": {
            "text/plain": [
              "<Figure size 432x288 with 1 Axes>"
            ],
            "image/png": "[encoded data removed]"
          },
          "metadata": {
            "needs_background": "light"
          }
        },
        {
          "output_type": "display_data",
          "data": {
            "text/plain": [
              "<Figure size 432x288 with 1 Axes>"
            ],
            "image/png": "[encoded data removed]"
          },
          "metadata": {
            "needs_background": "light"
          }
        },
        {
          "output_type": "display_data",
          "data": {
            "text/plain": [
              "<Figure size 432x288 with 1 Axes>"
            ],
            "image/png": "[encoded data removed]"
          },
          "metadata": {
            "needs_background": "light"
          }
        }
      ]
    },
    {
      "cell_type": "markdown",
      "source": [
        "##PyTorch Datasets"
      ],
      "metadata": {
        "id": "1CyTAtcTBTZM"
      }
    },
    {
      "cell_type": "code",
      "source": [
        "args = {'batch_size':20,\n",
        "        'num_workers':4,\n",
        "        'num_classes':10,\n",
        "        'lr':1e-4,\n",
        "        'weight_decay':5e-4,\n",
        "        'num_epochs':30}"
      ],
      "metadata": {
        "id": "v925Vh6R_YCl"
      },
      "execution_count": 203,
      "outputs": []
    },
    {
      "cell_type": "code",
      "source": [
        "from torchvision import transforms, datasets\n",
        "from torch.utils.data import DataLoader, Dataset\n",
        "import pandas as pd"
      ],
      "metadata": {
        "id": "0KbhU14MBVgF"
      },
      "execution_count": 204,
      "outputs": []
    },
    {
      "cell_type": "code",
      "source": [
        "train_set = datasets.MNIST('./', # dataset download root\n",
        "                           train=True, # training model\n",
        "                           transform=transforms.ToTensor(), # change to Tensor\n",
        "                           download=True # downloading data\n",
        "                            )"
      ],
      "metadata": {
        "id": "EXS3LAjCBbnL"
      },
      "execution_count": 205,
      "outputs": []
    },
    {
      "cell_type": "code",
      "source": [
        "test_set = datasets.MNIST('./', train=False, transform=transforms.ToTensor(), download=False)"
      ],
      "metadata": {
        "id": "l_OENSc3CFZl"
      },
      "execution_count": 206,
      "outputs": []
    },
    {
      "cell_type": "code",
      "source": [
        "print(f'Train Samples: {len(train_set)} \\nTest Samples: {len(test_set)}')"
      ],
      "metadata": {
        "colab": {
          "base_uri": "https://localhost:8080/"
        },
        "id": "KqxvUhgxCjfo",
        "outputId": "6ae5e970-b237-4472-b950-a21565af7c0f"
      },
      "execution_count": 207,
      "outputs": [
        {
          "output_type": "stream",
          "name": "stdout",
          "text": [
            "Train Samples: 60000 \n",
            "Test Samples: 10000\n"
          ]
        }
      ]
    },
    {
      "cell_type": "code",
      "source": [
        "for i in range(5):\n",
        "    data, label = train_set[i]\n",
        "    plt.figure()\n",
        "    plt.imshow(data[0])\n",
        "    plt.title('Labels: ' + str(label))"
      ],
      "metadata": {
        "colab": {
          "base_uri": "https://localhost:8080/",
          "height": 1000
        },
        "id": "fjJDyUCVCvGS",
        "outputId": "feaa6768-3d05-47c9-a342-13e65a8c1d45"
      },
      "execution_count": 208,
      "outputs": [
        {
          "output_type": "display_data",
          "data": {
            "text/plain": [
              "<Figure size 432x288 with 1 Axes>"
            ],
            "image/png": "[encoded data removed]"
          },
          "metadata": {
            "needs_background": "light"
          }
        },
        {
          "output_type": "display_data",
          "data": {
            "text/plain": [
              "<Figure size 432x288 with 1 Axes>"
            ],
            "image/png": "[encoded data removed]"
          },
          "metadata": {
            "needs_background": "light"
          }
        },
        {
          "output_type": "display_data",
          "data": {
            "text/plain": [
              "<Figure size 432x288 with 1 Axes>"
            ],
            "image/png": "[encoded data removed]"
          },
          "metadata": {
            "needs_background": "light"
          }
        },
        {
          "output_type": "display_data",
          "data": {
            "text/plain": [
              "<Figure size 432x288 with 1 Axes>"
            ],
            "image/png": "[encoded data removed]"
          },
          "metadata": {
            "needs_background": "light"
          }
        },
        {
          "output_type": "display_data",
          "data": {
            "text/plain": [
              "<Figure size 432x288 with 1 Axes>"
            ],
            "image/png": "[encoded data removed]"
          },
          "metadata": {
            "needs_background": "light"
          }
        }
      ]
    },
    {
      "cell_type": "code",
      "source": [
        "train_loader = DataLoader(train_set, batch_size=args['batch_size'], shuffle=True, num_workers=args['num_workers'])\n",
        "test_loader = DataLoader(test_set, batch_size=args['batch_size'], shuffle=True, num_workers=args['num_workers'])"
      ],
      "metadata": {
        "colab": {
          "base_uri": "https://localhost:8080/"
        },
        "id": "6MDATw-wGmkX",
        "outputId": "d0e5ca74-7bcc-4ce8-a688-b0cb362565b7"
      },
      "execution_count": 209,
      "outputs": [
        {
          "output_type": "stream",
          "name": "stderr",
          "text": [
            "/usr/local/lib/python3.7/dist-packages/torch/utils/data/dataloader.py:566: UserWarning: This DataLoader will create 4 worker processes in total. Our suggested max number of worker in current system is 2, which is smaller than what this DataLoader is going to create. Please be aware that excessive worker creation might get DataLoader running slow or even freeze, lower the worker number to avoid potential slowness/freeze if necessary.\n",
            "  cpuset_checked))\n"
          ]
        }
      ]
    },
    {
      "cell_type": "code",
      "source": [
        "class MLP(nn.Module):\n",
        "\n",
        "  def __init__(self, input_size, hidden_size, out_size):\n",
        "    super(MLP, self).__init__()\n",
        "\n",
        "    self.features  = nn.Sequential(\n",
        "                      nn.Linear(input_size, hidden_size),\n",
        "                      nn.Sigmoid(),\n",
        "                      nn.Linear(hidden_size, hidden_size),\n",
        "                      nn.ReLU()\n",
        "                    )\n",
        "    self.out     = nn.Linear(hidden_size, out_size)\n",
        "    self.softmax = nn.Softmax()\n",
        "\n",
        "  def forward(self, X):\n",
        "    \n",
        "    X = X.view(X.size(0), -1)\n",
        "\n",
        "    feature = self.features(X)\n",
        "    output  = self.softmax(self.out(feature))\n",
        "\n",
        "    return output\n",
        "\n",
        "input_size  = 28 * 28\n",
        "hidden_size = 128\n",
        "out_size    = 10 #classes\n",
        "\n",
        "torch.manual_seed(42)\n",
        "net = MLP(input_size, hidden_size, out_size).to(device) #cast na GPU "
      ],
      "metadata": {
        "id": "P6D0kAI3MkUP"
      },
      "execution_count": 210,
      "outputs": []
    },
    {
      "cell_type": "code",
      "source": [
        "criterion = nn.CrossEntropyLoss().to(device)\n",
        "optimizer = optim.Adam(net.parameters(), lr=args['lr'], weight_decay=args['weight_decay'])"
      ],
      "metadata": {
        "id": "sCpVQgi7OcUI"
      },
      "execution_count": 211,
      "outputs": []
    },
    {
      "cell_type": "code",
      "source": [
        "for epoch in range(args['num_epochs']):\n",
        "#   start = time.time()\n",
        "\n",
        "  epoch_loss = []\n",
        "  for batch in train_loader:\n",
        "    \n",
        "    dado, rotulo = batch\n",
        "\n",
        "    # Cast na GPU\n",
        "    dado   = dado.to(device)\n",
        "    rotulo = rotulo.to(device)\n",
        "\n",
        "    # Forward \n",
        "    pred = net(dado)\n",
        "    loss = criterion(pred, rotulo)\n",
        "    epoch_loss.append(loss.cpu().data)\n",
        "\n",
        "    # Backward\n",
        "    loss.backward()\n",
        "    optimizer.step()\n",
        "\n",
        "  epoch_loss = np.asarray(epoch_loss)\n",
        "#   end = time.time()\n",
        "\n",
        "  print(f\"Epochs: {epoch+1} --- Loss Mean: {epoch_loss.mean()} --- Loss STD: {epoch_loss.std()}\")"
      ],
      "metadata": {
        "colab": {
          "base_uri": "https://localhost:8080/"
        },
        "id": "2QmaIbjLQOIL",
        "outputId": "b8e66046-678d-4143-c72e-c9eefd394f7c"
      },
      "execution_count": 212,
      "outputs": [
        {
          "output_type": "stream",
          "name": "stderr",
          "text": [
            "/usr/local/lib/python3.7/dist-packages/ipykernel_launcher.py:20: UserWarning: Implicit dimension choice for softmax has been deprecated. Change the call to include dim=X as an argument.\n"
          ]
        },
        {
          "output_type": "stream",
          "name": "stdout",
          "text": [
            "Epochs: 1 --- Loss Mean: 1.8612568378448486 --- Loss STD: 0.16542059183120728\n",
            "Epochs: 2 --- Loss Mean: 1.7931007146835327 --- Loss STD: 0.10486733913421631\n",
            "Epochs: 3 --- Loss Mean: 1.7880442142486572 --- Loss STD: 0.10639011859893799\n",
            "Epochs: 4 --- Loss Mean: 1.7884886264801025 --- Loss STD: 0.10375167429447174\n",
            "Epochs: 5 --- Loss Mean: 1.7945339679718018 --- Loss STD: 0.10516730695962906\n",
            "Epochs: 6 --- Loss Mean: 1.8037382364273071 --- Loss STD: 0.10791946947574615\n",
            "Epochs: 7 --- Loss Mean: 1.8051217794418335 --- Loss STD: 0.10887064039707184\n",
            "Epochs: 8 --- Loss Mean: 1.806527018547058 --- Loss STD: 0.10644394159317017\n",
            "Epochs: 9 --- Loss Mean: 1.8095903396606445 --- Loss STD: 0.10703068226575851\n",
            "Epochs: 10 --- Loss Mean: 1.8033424615859985 --- Loss STD: 0.10559644550085068\n",
            "Epochs: 11 --- Loss Mean: 1.8142998218536377 --- Loss STD: 0.10604135692119598\n",
            "Epochs: 12 --- Loss Mean: 1.8273414373397827 --- Loss STD: 0.10715463012456894\n",
            "Epochs: 13 --- Loss Mean: 1.819393515586853 --- Loss STD: 0.10455044358968735\n",
            "Epochs: 14 --- Loss Mean: 1.8175934553146362 --- Loss STD: 0.10403738915920258\n",
            "Epochs: 15 --- Loss Mean: 1.8147000074386597 --- Loss STD: 0.1039961501955986\n",
            "Epochs: 16 --- Loss Mean: 1.8181002140045166 --- Loss STD: 0.10628463327884674\n",
            "Epochs: 17 --- Loss Mean: 1.8211711645126343 --- Loss STD: 0.10787888616323471\n",
            "Epochs: 18 --- Loss Mean: 1.8462560176849365 --- Loss STD: 0.10800572484731674\n",
            "Epochs: 19 --- Loss Mean: 1.8329310417175293 --- Loss STD: 0.10886676609516144\n",
            "Epochs: 20 --- Loss Mean: 1.8235931396484375 --- Loss STD: 0.10854168981313705\n",
            "Epochs: 21 --- Loss Mean: 1.8272160291671753 --- Loss STD: 0.10833342373371124\n",
            "Epochs: 22 --- Loss Mean: 1.835493803024292 --- Loss STD: 0.10698749870061874\n",
            "Epochs: 23 --- Loss Mean: 1.8515539169311523 --- Loss STD: 0.10849151760339737\n",
            "Epochs: 24 --- Loss Mean: 1.8426539897918701 --- Loss STD: 0.10778491199016571\n",
            "Epochs: 25 --- Loss Mean: 1.8601889610290527 --- Loss STD: 0.1106123998761177\n",
            "Epochs: 26 --- Loss Mean: 1.8773183822631836 --- Loss STD: 0.10875561833381653\n",
            "Epochs: 27 --- Loss Mean: 1.847240924835205 --- Loss STD: 0.10836775600910187\n",
            "Epochs: 28 --- Loss Mean: 1.8421529531478882 --- Loss STD: 0.11024274677038193\n",
            "Epochs: 29 --- Loss Mean: 1.8642315864562988 --- Loss STD: 0.10933618247509003\n",
            "Epochs: 30 --- Loss Mean: 1.856722116470337 --- Loss STD: 0.11049124598503113\n"
          ]
        }
      ]
    },
    {
      "cell_type": "code",
      "source": [
        "dataset = pd.read_csv('https://github.com/MpRonald/datasets/blob/main/bike_hour.csv?raw=true')\n",
        "dataset.head()"
      ],
      "metadata": {
        "colab": {
          "base_uri": "https://localhost:8080/",
          "height": 357
        },
        "id": "MNEJsC7dR1Fl",
        "outputId": "c7249fce-1214-4688-cff7-4509f43bd559"
      },
      "execution_count": 213,
      "outputs": [
        {
          "output_type": "execute_result",
          "data": {
            "text/plain": [
              "   instant      dteday  season  yr  mnth  hr  holiday  weekday  workingday  \\\n",
              "0        1  2011-01-01       1   0     1   0        0        6           0   \n",
              "1        2  2011-01-01       1   0     1   1        0        6           0   \n",
              "2        3  2011-01-01       1   0     1   2        0        6           0   \n",
              "3        4  2011-01-01       1   0     1   3        0        6           0   \n",
              "4        5  2011-01-01       1   0     1   4        0        6           0   \n",
              "\n",
              "   weathersit  temp   atemp   hum  windspeed  casual  registered  cnt  \n",
              "0           1  0.24  0.2879  0.81        0.0       3          13   16  \n",
              "1           1  0.22  0.2727  0.80        0.0       8          32   40  \n",
              "2           1  0.22  0.2727  0.80        0.0       5          27   32  \n",
              "3           1  0.24  0.2879  0.75        0.0       3          10   13  \n",
              "4           1  0.24  0.2879  0.75        0.0       0           1    1  "
            ],
            "text/html": [
              "\n",
              "  <div id=\"df-321690f7-56ee-416e-8036-70c8bedd5b26\">\n",
              "    <div class=\"colab-df-container\">\n",
              "      <div>\n",
              "<style scoped>\n",
              "    .dataframe tbody tr th:only-of-type {\n",
              "        vertical-align: middle;\n",
              "    }\n",
              "\n",
              "    .dataframe tbody tr th {\n",
              "        vertical-align: top;\n",
              "    }\n",
              "\n",
              "    .dataframe thead th {\n",
              "        text-align: right;\n",
              "    }\n",
              "</style>\n",
              "<table border=\"1\" class=\"dataframe\">\n",
              "  <thead>\n",
              "    <tr style=\"text-align: right;\">\n",
              "      <th></th>\n",
              "      <th>instant</th>\n",
              "      <th>dteday</th>\n",
              "      <th>season</th>\n",
              "      <th>yr</th>\n",
              "      <th>mnth</th>\n",
              "      <th>hr</th>\n",
              "      <th>holiday</th>\n",
              "      <th>weekday</th>\n",
              "      <th>workingday</th>\n",
              "      <th>weathersit</th>\n",
              "      <th>temp</th>\n",
              "      <th>atemp</th>\n",
              "      <th>hum</th>\n",
              "      <th>windspeed</th>\n",
              "      <th>casual</th>\n",
              "      <th>registered</th>\n",
              "      <th>cnt</th>\n",
              "    </tr>\n",
              "  </thead>\n",
              "  <tbody>\n",
              "    <tr>\n",
              "      <th>0</th>\n",
              "      <td>1</td>\n",
              "      <td>2011-01-01</td>\n",
              "      <td>1</td>\n",
              "      <td>0</td>\n",
              "      <td>1</td>\n",
              "      <td>0</td>\n",
              "      <td>0</td>\n",
              "      <td>6</td>\n",
              "      <td>0</td>\n",
              "      <td>1</td>\n",
              "      <td>0.24</td>\n",
              "      <td>0.2879</td>\n",
              "      <td>0.81</td>\n",
              "      <td>0.0</td>\n",
              "      <td>3</td>\n",
              "      <td>13</td>\n",
              "      <td>16</td>\n",
              "    </tr>\n",
              "    <tr>\n",
              "      <th>1</th>\n",
              "      <td>2</td>\n",
              "      <td>2011-01-01</td>\n",
              "      <td>1</td>\n",
              "      <td>0</td>\n",
              "      <td>1</td>\n",
              "      <td>1</td>\n",
              "      <td>0</td>\n",
              "      <td>6</td>\n",
              "      <td>0</td>\n",
              "      <td>1</td>\n",
              "      <td>0.22</td>\n",
              "      <td>0.2727</td>\n",
              "      <td>0.80</td>\n",
              "      <td>0.0</td>\n",
              "      <td>8</td>\n",
              "      <td>32</td>\n",
              "      <td>40</td>\n",
              "    </tr>\n",
              "    <tr>\n",
              "      <th>2</th>\n",
              "      <td>3</td>\n",
              "      <td>2011-01-01</td>\n",
              "      <td>1</td>\n",
              "      <td>0</td>\n",
              "      <td>1</td>\n",
              "      <td>2</td>\n",
              "      <td>0</td>\n",
              "      <td>6</td>\n",
              "      <td>0</td>\n",
              "      <td>1</td>\n",
              "      <td>0.22</td>\n",
              "      <td>0.2727</td>\n",
              "      <td>0.80</td>\n",
              "      <td>0.0</td>\n",
              "      <td>5</td>\n",
              "      <td>27</td>\n",
              "      <td>32</td>\n",
              "    </tr>\n",
              "    <tr>\n",
              "      <th>3</th>\n",
              "      <td>4</td>\n",
              "      <td>2011-01-01</td>\n",
              "      <td>1</td>\n",
              "      <td>0</td>\n",
              "      <td>1</td>\n",
              "      <td>3</td>\n",
              "      <td>0</td>\n",
              "      <td>6</td>\n",
              "      <td>0</td>\n",
              "      <td>1</td>\n",
              "      <td>0.24</td>\n",
              "      <td>0.2879</td>\n",
              "      <td>0.75</td>\n",
              "      <td>0.0</td>\n",
              "      <td>3</td>\n",
              "      <td>10</td>\n",
              "      <td>13</td>\n",
              "    </tr>\n",
              "    <tr>\n",
              "      <th>4</th>\n",
              "      <td>5</td>\n",
              "      <td>2011-01-01</td>\n",
              "      <td>1</td>\n",
              "      <td>0</td>\n",
              "      <td>1</td>\n",
              "      <td>4</td>\n",
              "      <td>0</td>\n",
              "      <td>6</td>\n",
              "      <td>0</td>\n",
              "      <td>1</td>\n",
              "      <td>0.24</td>\n",
              "      <td>0.2879</td>\n",
              "      <td>0.75</td>\n",
              "      <td>0.0</td>\n",
              "      <td>0</td>\n",
              "      <td>1</td>\n",
              "      <td>1</td>\n",
              "    </tr>\n",
              "  </tbody>\n",
              "</table>\n",
              "</div>\n",
              "      <button class=\"colab-df-convert\" onclick=\"convertToInteractive('df-321690f7-56ee-416e-8036-70c8bedd5b26')\"\n",
              "              title=\"Convert this dataframe to an interactive table.\"\n",
              "              style=\"display:none;\">\n",
              "        \n",
              "  <svg xmlns=\"http://www.w3.org/2000/svg\" height=\"24px\"viewBox=\"0 0 24 24\"\n",
              "       width=\"24px\">\n",
              "    <path d=\"M0 0h24v24H0V0z\" fill=\"none\"/>\n",
              "    <path d=\"M18.56 5.44l.94 2.06.94-2.06 2.06-.94-2.06-.94-.94-2.06-.94 2.06-2.06.94zm-11 1L8.5 8.5l.94-2.06 2.06-.94-2.06-.94L8.5 2.5l-.94 2.06-2.06.94zm10 10l.94 2.06.94-2.06 2.06-.94-2.06-.94-.94-2.06-.94 2.06-2.06.94z\"/><path d=\"M17.41 7.96l-1.37-1.37c-.4-.4-.92-.59-1.43-.59-.52 0-1.04.2-1.43.59L10.3 9.45l-7.72 7.72c-.78.78-.78 2.05 0 2.83L4 21.41c.39.39.9.59 1.41.59.51 0 1.02-.2 1.41-.59l7.78-7.78 2.81-2.81c.8-.78.8-2.07 0-2.86zM5.41 20L4 18.59l7.72-7.72 1.47 1.35L5.41 20z\"/>\n",
              "  </svg>\n",
              "      </button>\n",
              "      \n",
              "  <style>\n",
              "    .colab-df-container {\n",
              "      display:flex;\n",
              "      flex-wrap:wrap;\n",
              "      gap: 12px;\n",
              "    }\n",
              "\n",
              "    .colab-df-convert {\n",
              "      background-color: #E8F0FE;\n",
              "      border: none;\n",
              "      border-radius: 50%;\n",
              "      cursor: pointer;\n",
              "      display: none;\n",
              "      fill: #1967D2;\n",
              "      height: 32px;\n",
              "      padding: 0 0 0 0;\n",
              "      width: 32px;\n",
              "    }\n",
              "\n",
              "    .colab-df-convert:hover {\n",
              "      background-color: #E2EBFA;\n",
              "      box-shadow: 0px 1px 2px rgba(60, 64, 67, 0.3), 0px 1px 3px 1px rgba(60, 64, 67, 0.15);\n",
              "      fill: #174EA6;\n",
              "    }\n",
              "\n",
              "    [theme=dark] .colab-df-convert {\n",
              "      background-color: #3B4455;\n",
              "      fill: #D2E3FC;\n",
              "    }\n",
              "\n",
              "    [theme=dark] .colab-df-convert:hover {\n",
              "      background-color: #434B5C;\n",
              "      box-shadow: 0px 1px 3px 1px rgba(0, 0, 0, 0.15);\n",
              "      filter: drop-shadow(0px 1px 2px rgba(0, 0, 0, 0.3));\n",
              "      fill: #FFFFFF;\n",
              "    }\n",
              "  </style>\n",
              "\n",
              "      <script>\n",
              "        const buttonEl =\n",
              "          document.querySelector('#df-321690f7-56ee-416e-8036-70c8bedd5b26 button.colab-df-convert');\n",
              "        buttonEl.style.display =\n",
              "          google.colab.kernel.accessAllowed ? 'block' : 'none';\n",
              "\n",
              "        async function convertToInteractive(key) {\n",
              "          const element = document.querySelector('#df-321690f7-56ee-416e-8036-70c8bedd5b26');\n",
              "          const dataTable =\n",
              "            await google.colab.kernel.invokeFunction('convertToInteractive',\n",
              "                                                     [key], {});\n",
              "          if (!dataTable) return;\n",
              "\n",
              "          const docLinkHtml = 'Like what you see? Visit the ' +\n",
              "            '<a target=\"_blank\" href=https://colab.research.google.com/notebooks/data_table.ipynb>data table notebook</a>'\n",
              "            + ' to learn more about interactive tables.';\n",
              "          element.innerHTML = '';\n",
              "          dataTable['output_type'] = 'display_data';\n",
              "          await google.colab.output.renderOutput(dataTable, element);\n",
              "          const docLink = document.createElement('div');\n",
              "          docLink.innerHTML = docLinkHtml;\n",
              "          element.appendChild(docLink);\n",
              "        }\n",
              "      </script>\n",
              "    </div>\n",
              "  </div>\n",
              "  "
            ]
          },
          "metadata": {},
          "execution_count": 213
        }
      ]
    },
    {
      "cell_type": "code",
      "source": [
        "dataset.shape"
      ],
      "metadata": {
        "colab": {
          "base_uri": "https://localhost:8080/"
        },
        "id": "NjhpWLnjVkFG",
        "outputId": "99d8f6c8-2829-480e-e341-8e2b9a21497e"
      },
      "execution_count": 214,
      "outputs": [
        {
          "output_type": "execute_result",
          "data": {
            "text/plain": [
              "(17379, 17)"
            ]
          },
          "metadata": {},
          "execution_count": 214
        }
      ]
    },
    {
      "cell_type": "code",
      "source": [
        "dataset.info()"
      ],
      "metadata": {
        "colab": {
          "base_uri": "https://localhost:8080/"
        },
        "id": "1wFmI7a_VowW",
        "outputId": "26349387-535e-4786-d77a-8da0e4e5d685"
      },
      "execution_count": 215,
      "outputs": [
        {
          "output_type": "stream",
          "name": "stdout",
          "text": [
            "<class 'pandas.core.frame.DataFrame'>\n",
            "RangeIndex: 17379 entries, 0 to 17378\n",
            "Data columns (total 17 columns):\n",
            " #   Column      Non-Null Count  Dtype  \n",
            "---  ------      --------------  -----  \n",
            " 0   instant     17379 non-null  int64  \n",
            " 1   dteday      17379 non-null  object \n",
            " 2   season      17379 non-null  int64  \n",
            " 3   yr          17379 non-null  int64  \n",
            " 4   mnth        17379 non-null  int64  \n",
            " 5   hr          17379 non-null  int64  \n",
            " 6   holiday     17379 non-null  int64  \n",
            " 7   weekday     17379 non-null  int64  \n",
            " 8   workingday  17379 non-null  int64  \n",
            " 9   weathersit  17379 non-null  int64  \n",
            " 10  temp        17379 non-null  float64\n",
            " 11  atemp       17379 non-null  float64\n",
            " 12  hum         17379 non-null  float64\n",
            " 13  windspeed   17379 non-null  float64\n",
            " 14  casual      17379 non-null  int64  \n",
            " 15  registered  17379 non-null  int64  \n",
            " 16  cnt         17379 non-null  int64  \n",
            "dtypes: float64(4), int64(12), object(1)\n",
            "memory usage: 2.3+ MB\n"
          ]
        }
      ]
    },
    {
      "cell_type": "code",
      "source": [
        "torch.manual_seed(42)\n",
        "idx = torch.randperm(len(dataset)).tolist()\n",
        "train_size = int(0.8 * len(dataset))\n",
        "df_train = dataset.iloc[idx[:train_size]]\n",
        "df_test = dataset.iloc[idx[train_size:]]"
      ],
      "metadata": {
        "id": "us8B-4b1VrDl"
      },
      "execution_count": 216,
      "outputs": []
    },
    {
      "cell_type": "code",
      "source": [
        "df_train.to_csv('bike_train.csv', index=False)\n",
        "df_test.to_csv('bike_test.csv', index=False)"
      ],
      "metadata": {
        "id": "4WExKQBRWeIg"
      },
      "execution_count": 217,
      "outputs": []
    },
    {
      "cell_type": "code",
      "source": [
        "class little_bike(Dataset):\n",
        "\n",
        "    def __init__(self, csv_path):\n",
        "        # loading dataset\n",
        "        self.data = pd.read_csv(csv_path).to_numpy() \n",
        "\n",
        "    def __getitem__(self, idx):\n",
        "        sample = self.data[idx][2:14]\n",
        "        label = self.data[idx][-1:]\n",
        "\n",
        "        # change to tensor\n",
        "        sample = torch.from_numpy(sample.astype(np.float32))\n",
        "        label = torch.from_numpy(label.astype(np.float32))\n",
        "\n",
        "        return sample, label\n",
        "\n",
        "    def __len__(self):\n",
        "        return len(self.data)"
      ],
      "metadata": {
        "id": "vzaOlXFi9ewi"
      },
      "execution_count": 218,
      "outputs": []
    },
    {
      "cell_type": "code",
      "source": [
        "class MLP(nn.Module):\n",
        "  \n",
        "  def __init__(self, input_size, hidden_size, out_size):\n",
        "    super(MLP, self).__init__()\n",
        "    \n",
        "    self.features = nn.Sequential(\n",
        "          nn.Linear(input_size, hidden_size),\n",
        "          nn.ReLU(),\n",
        "          nn.Linear(hidden_size, hidden_size),\n",
        "          nn.ReLU(),\n",
        "    )\n",
        "    \n",
        "    self.classifier = nn.Sequential(\n",
        "        nn.Linear(hidden_size, out_size),\n",
        "        nn.ReLU(),\n",
        "    )\n",
        "\n",
        "  def forward(self, X):\n",
        "    \n",
        "    hidden = self.features(X)\n",
        "    output = self.classifier(hidden)\n",
        "    \n",
        "    return output"
      ],
      "metadata": {
        "id": "KD0zfg5dLBIC"
      },
      "execution_count": 219,
      "outputs": []
    },
    {
      "cell_type": "code",
      "source": [],
      "metadata": {
        "id": "PUX74ObrS3iX"
      },
      "execution_count": null,
      "outputs": []
    },
    {
      "cell_type": "code",
      "source": [
        "train_set = little_bike('bike_train.csv')\n",
        "test_set = little_bike('bike_test.csv')"
      ],
      "metadata": {
        "id": "orWO3YQWAZXI"
      },
      "execution_count": 220,
      "outputs": []
    },
    {
      "cell_type": "code",
      "source": [
        "train_loader = DataLoader(train_set, batch_size=args['batch_size'], shuffle=True, num_workers=args['num_workers'])\n",
        "test_loader = DataLoader(test_set, batch_size=args['batch_size'], shuffle=True, num_workers=args['num_workers'])"
      ],
      "metadata": {
        "colab": {
          "base_uri": "https://localhost:8080/"
        },
        "id": "RIr7y3XiAszU",
        "outputId": "2dca6f4d-686e-4034-9601-97031cb3d35c"
      },
      "execution_count": 221,
      "outputs": [
        {
          "output_type": "stream",
          "name": "stderr",
          "text": [
            "/usr/local/lib/python3.7/dist-packages/torch/utils/data/dataloader.py:566: UserWarning: This DataLoader will create 4 worker processes in total. Our suggested max number of worker in current system is 2, which is smaller than what this DataLoader is going to create. Please be aware that excessive worker creation might get DataLoader running slow or even freeze, lower the worker number to avoid potential slowness/freeze if necessary.\n",
            "  cpuset_checked))\n"
          ]
        }
      ]
    },
    {
      "cell_type": "code",
      "source": [
        "hidden_size = 128\n",
        "out_size    = 1\n",
        "\n",
        "torch.manual_seed(42)\n",
        "net = MLP(input_size, hidden_size, out_size).to(device) #cast na GPU \n",
        "\n",
        "input_size = len(train_set[0][0])\n",
        "net = MLP(input_size, hidden_size, out_size).to(device) # cast in GPU\n",
        "\n",
        "criterion = nn.L1Loss().to(device)\n",
        "optimizer = optim.Adam(net.parameters(), lr=args['lr'], weight_decay=args['weight_decay'])"
      ],
      "metadata": {
        "id": "1pgN4Ix2A4Tn"
      },
      "execution_count": 222,
      "outputs": []
    },
    {
      "cell_type": "markdown",
      "source": [
        "##Training and Validation"
      ],
      "metadata": {
        "id": "9rclCKrSDfGN"
      }
    },
    {
      "cell_type": "code",
      "source": [
        "def train(train_loader, net, epoch):\n",
        "    net.train()\n",
        "    epoch_loss = []\n",
        "    for batch in train_loader:\n",
        "        \n",
        "        dado, rotulo = batch\n",
        "\n",
        "        # Cast na GPU\n",
        "        dado   = dado.to(device)\n",
        "        rotulo = rotulo.to(device)\n",
        "\n",
        "        # Forward \n",
        "        pred = net(dado)\n",
        "        loss = criterion(pred, rotulo)\n",
        "        epoch_loss.append(loss.cpu().data)\n",
        "\n",
        "        # Backward\n",
        "        loss.backward()\n",
        "        optimizer.step()\n",
        "\n",
        "    epoch_loss = np.asarray(epoch_loss)\n",
        "    #   end = time.time()\n",
        "\n",
        "    print(f\"Epochs TRAIN: {epoch+1} --- Loss Mean: {epoch_loss.mean()} --- Loss STD: {epoch_loss.std()}\")"
      ],
      "metadata": {
        "id": "Rwg9FwtiCsp5"
      },
      "execution_count": 223,
      "outputs": []
    },
    {
      "cell_type": "code",
      "source": [
        "def test(test_loader, net, epoch):\n",
        "\n",
        "    net.eval()\n",
        "    with torch.no_grad():\n",
        "        epoch_loss = []\n",
        "        for batch in train_loader:\n",
        "            \n",
        "            dado, rotulo = batch\n",
        "\n",
        "            # Cast na GPU\n",
        "            dado   = dado.to(device)\n",
        "            rotulo = rotulo.to(device)\n",
        "\n",
        "            # Forward \n",
        "            pred = net(dado)\n",
        "            loss = criterion(pred, rotulo)\n",
        "            epoch_loss.append(loss.cpu().data)\n",
        "\n",
        "        epoch_loss = np.asarray(epoch_loss)\n",
        "        #   end = time.time()\n",
        "\n",
        "        print(f\"Epochs TEST: {epoch+1} --- Loss Mean: {epoch_loss.mean()} --- Loss STD: {epoch_loss.std()}\")"
      ],
      "metadata": {
        "id": "MGr5LGEiEDzX"
      },
      "execution_count": 224,
      "outputs": []
    },
    {
      "cell_type": "code",
      "source": [
        "for epoch in range(args['num_epochs']):\n",
        "    train(train_loader, net, epoch)\n",
        "    test(test_loader, net, epoch)\n",
        "    print('-'*80)"
      ],
      "metadata": {
        "colab": {
          "base_uri": "https://localhost:8080/"
        },
        "id": "AjMjgC-sC1_x",
        "outputId": "eef45d36-6ade-4c1b-823b-821bed9be2c7"
      },
      "execution_count": 225,
      "outputs": [
        {
          "output_type": "stream",
          "name": "stdout",
          "text": [
            "Epochs TRAIN: 1 --- Loss Mean: 149.71441650390625 --- Loss STD: 39.62565994262695\n",
            "Epochs TEST: 1 --- Loss Mean: 136.0177764892578 --- Loss STD: 22.644855499267578\n",
            "--------------------------------------------------------------------------------\n",
            "Epochs TRAIN: 2 --- Loss Mean: 123.2693862915039 --- Loss STD: 31.168804168701172\n",
            "Epochs TEST: 2 --- Loss Mean: 114.72674560546875 --- Loss STD: 26.119749069213867\n",
            "--------------------------------------------------------------------------------\n",
            "Epochs TRAIN: 3 --- Loss Mean: 119.25505065917969 --- Loss STD: 26.816818237304688\n",
            "Epochs TEST: 3 --- Loss Mean: 123.1203842163086 --- Loss STD: 30.325702667236328\n",
            "--------------------------------------------------------------------------------\n",
            "Epochs TRAIN: 4 --- Loss Mean: 117.95800018310547 --- Loss STD: 29.659997940063477\n",
            "Epochs TEST: 4 --- Loss Mean: 111.56578826904297 --- Loss STD: 27.12034797668457\n",
            "--------------------------------------------------------------------------------\n",
            "Epochs TRAIN: 5 --- Loss Mean: 113.73756408691406 --- Loss STD: 27.157133102416992\n",
            "Epochs TEST: 5 --- Loss Mean: 113.15982055664062 --- Loss STD: 23.504518508911133\n",
            "--------------------------------------------------------------------------------\n",
            "Epochs TRAIN: 6 --- Loss Mean: 106.47312927246094 --- Loss STD: 25.83965492248535\n",
            "Epochs TEST: 6 --- Loss Mean: 103.332275390625 --- Loss STD: 23.348899841308594\n",
            "--------------------------------------------------------------------------------\n",
            "Epochs TRAIN: 7 --- Loss Mean: 100.47196960449219 --- Loss STD: 24.629268646240234\n",
            "Epochs TEST: 7 --- Loss Mean: 98.3984146118164 --- Loss STD: 23.361989974975586\n",
            "--------------------------------------------------------------------------------\n",
            "Epochs TRAIN: 8 --- Loss Mean: 97.77478790283203 --- Loss STD: 24.407100677490234\n",
            "Epochs TEST: 8 --- Loss Mean: 95.47932434082031 --- Loss STD: 23.508508682250977\n",
            "--------------------------------------------------------------------------------\n",
            "Epochs TRAIN: 9 --- Loss Mean: 94.87271118164062 --- Loss STD: 24.456703186035156\n",
            "Epochs TEST: 9 --- Loss Mean: 95.54182434082031 --- Loss STD: 27.506166458129883\n",
            "--------------------------------------------------------------------------------\n",
            "Epochs TRAIN: 10 --- Loss Mean: 92.04155731201172 --- Loss STD: 24.25606918334961\n",
            "Epochs TEST: 10 --- Loss Mean: 89.91311645507812 --- Loss STD: 24.223859786987305\n",
            "--------------------------------------------------------------------------------\n",
            "Epochs TRAIN: 11 --- Loss Mean: 92.11420440673828 --- Loss STD: 22.444786071777344\n",
            "Epochs TEST: 11 --- Loss Mean: 90.59378051757812 --- Loss STD: 20.446325302124023\n",
            "--------------------------------------------------------------------------------\n",
            "Epochs TRAIN: 12 --- Loss Mean: 91.88653564453125 --- Loss STD: 24.259525299072266\n",
            "Epochs TEST: 12 --- Loss Mean: 93.86183166503906 --- Loss STD: 26.330577850341797\n",
            "--------------------------------------------------------------------------------\n",
            "Epochs TRAIN: 13 --- Loss Mean: 93.18500518798828 --- Loss STD: 23.689165115356445\n",
            "Epochs TEST: 13 --- Loss Mean: 93.71492767333984 --- Loss STD: 26.59657859802246\n",
            "--------------------------------------------------------------------------------\n",
            "Epochs TRAIN: 14 --- Loss Mean: 92.03624725341797 --- Loss STD: 24.55331039428711\n",
            "Epochs TEST: 14 --- Loss Mean: 84.8860855102539 --- Loss STD: 23.07951545715332\n",
            "--------------------------------------------------------------------------------\n",
            "Epochs TRAIN: 15 --- Loss Mean: 89.27237701416016 --- Loss STD: 24.4415340423584\n",
            "Epochs TEST: 15 --- Loss Mean: 92.19436645507812 --- Loss STD: 19.81610679626465\n",
            "--------------------------------------------------------------------------------\n",
            "Epochs TRAIN: 16 --- Loss Mean: 87.57493591308594 --- Loss STD: 24.287128448486328\n",
            "Epochs TEST: 16 --- Loss Mean: 85.12872314453125 --- Loss STD: 21.104623794555664\n",
            "--------------------------------------------------------------------------------\n",
            "Epochs TRAIN: 17 --- Loss Mean: 87.78968048095703 --- Loss STD: 24.63127326965332\n",
            "Epochs TEST: 17 --- Loss Mean: 88.49479675292969 --- Loss STD: 26.451534271240234\n",
            "--------------------------------------------------------------------------------\n",
            "Epochs TRAIN: 18 --- Loss Mean: 84.83696746826172 --- Loss STD: 22.30593490600586\n",
            "Epochs TEST: 18 --- Loss Mean: 84.839599609375 --- Loss STD: 25.17498016357422\n",
            "--------------------------------------------------------------------------------\n",
            "Epochs TRAIN: 19 --- Loss Mean: 85.2113265991211 --- Loss STD: 23.278858184814453\n",
            "Epochs TEST: 19 --- Loss Mean: 83.67676544189453 --- Loss STD: 20.683528900146484\n",
            "--------------------------------------------------------------------------------\n",
            "Epochs TRAIN: 20 --- Loss Mean: 82.67190551757812 --- Loss STD: 22.792652130126953\n",
            "Epochs TEST: 20 --- Loss Mean: 82.87138366699219 --- Loss STD: 21.358158111572266\n",
            "--------------------------------------------------------------------------------\n",
            "Epochs TRAIN: 21 --- Loss Mean: 83.46784973144531 --- Loss STD: 22.326784133911133\n",
            "Epochs TEST: 21 --- Loss Mean: 84.57923889160156 --- Loss STD: 24.37921714782715\n",
            "--------------------------------------------------------------------------------\n",
            "Epochs TRAIN: 22 --- Loss Mean: 82.35501098632812 --- Loss STD: 20.98959732055664\n",
            "Epochs TEST: 22 --- Loss Mean: 82.4986343383789 --- Loss STD: 24.855297088623047\n",
            "--------------------------------------------------------------------------------\n",
            "Epochs TRAIN: 23 --- Loss Mean: 82.8876724243164 --- Loss STD: 22.92124366760254\n",
            "Epochs TEST: 23 --- Loss Mean: 80.37752532958984 --- Loss STD: 20.715961456298828\n",
            "--------------------------------------------------------------------------------\n",
            "Epochs TRAIN: 24 --- Loss Mean: 81.55585479736328 --- Loss STD: 23.31355857849121\n",
            "Epochs TEST: 24 --- Loss Mean: 82.25160217285156 --- Loss STD: 19.15972137451172\n",
            "--------------------------------------------------------------------------------\n",
            "Epochs TRAIN: 25 --- Loss Mean: 79.89118957519531 --- Loss STD: 22.70997428894043\n",
            "Epochs TEST: 25 --- Loss Mean: 78.8065414428711 --- Loss STD: 22.59930419921875\n",
            "--------------------------------------------------------------------------------\n",
            "Epochs TRAIN: 26 --- Loss Mean: 79.36541748046875 --- Loss STD: 20.45075798034668\n",
            "Epochs TEST: 26 --- Loss Mean: 79.05851745605469 --- Loss STD: 24.046653747558594\n",
            "--------------------------------------------------------------------------------\n",
            "Epochs TRAIN: 27 --- Loss Mean: 77.76181030273438 --- Loss STD: 20.532785415649414\n",
            "Epochs TEST: 27 --- Loss Mean: 77.1340560913086 --- Loss STD: 22.834226608276367\n",
            "--------------------------------------------------------------------------------\n",
            "Epochs TRAIN: 28 --- Loss Mean: 77.33393859863281 --- Loss STD: 21.085166931152344\n",
            "Epochs TEST: 28 --- Loss Mean: 74.66895294189453 --- Loss STD: 21.386629104614258\n",
            "--------------------------------------------------------------------------------\n",
            "Epochs TRAIN: 29 --- Loss Mean: 75.84091186523438 --- Loss STD: 21.20696449279785\n",
            "Epochs TEST: 29 --- Loss Mean: 75.1351547241211 --- Loss STD: 19.39495086669922\n",
            "--------------------------------------------------------------------------------\n",
            "Epochs TRAIN: 30 --- Loss Mean: 75.05397033691406 --- Loss STD: 20.47702980041504\n",
            "Epochs TEST: 30 --- Loss Mean: 73.67950439453125 --- Loss STD: 19.455141067504883\n",
            "--------------------------------------------------------------------------------\n"
          ]
        }
      ]
    },
    {
      "cell_type": "code",
      "source": [
        "Xtest = torch.stack([tup[0] for tup in test_set])\n",
        "Xtest = Xtest.to(device)\n",
        "\n",
        "ytest = torch.stack([tup[1] for tup in test_set])\n",
        "ypred = net(Xtest).cpu().data\n",
        "\n",
        "data = torch.cat((ytest, ypred), axis=1)\n",
        "\n",
        "df_results = pd.DataFrame(data, columns=['ypred', 'ytest'])\n",
        "df_results.head(20)"
      ],
      "metadata": {
        "colab": {
          "base_uri": "https://localhost:8080/",
          "height": 676
        },
        "id": "_JOol-liE5mZ",
        "outputId": "a5634b7c-3786-4c61-ddee-e1913d0edac6"
      },
      "execution_count": 226,
      "outputs": [
        {
          "output_type": "execute_result",
          "data": {
            "text/plain": [
              "           ypred             ytest\n",
              "0   tensor(228.)  tensor(276.6572)\n",
              "1   tensor(126.)  tensor(121.8443)\n",
              "2     tensor(1.)    tensor(2.1958)\n",
              "3   tensor(236.)   tensor(84.1433)\n",
              "4   tensor(703.)  tensor(438.3304)\n",
              "5    tensor(10.)    tensor(2.1958)\n",
              "6   tensor(333.)  tensor(160.7610)\n",
              "7   tensor(234.)  tensor(123.3454)\n",
              "8   tensor(176.)  tensor(251.8053)\n",
              "9   tensor(362.)  tensor(173.2912)\n",
              "10  tensor(459.)  tensor(333.8459)\n",
              "11   tensor(60.)  tensor(132.0091)\n",
              "12  tensor(230.)  tensor(261.5561)\n",
              "13  tensor(358.)  tensor(176.6282)\n",
              "14  tensor(347.)  tensor(234.2276)\n",
              "15   tensor(78.)  tensor(210.0115)\n",
              "16   tensor(78.)   tensor(58.3033)\n",
              "17  tensor(114.)  tensor(153.0206)\n",
              "18  tensor(513.)  tensor(306.7227)\n",
              "19  tensor(208.)  tensor(263.4824)"
            ],
            "text/html": [
              "\n",
              "  <div id=\"df-204eb10e-5b43-485a-b0bc-26f0bdf3e713\">\n",
              "    <div class=\"colab-df-container\">\n",
              "      <div>\n",
              "<style scoped>\n",
              "    .dataframe tbody tr th:only-of-type {\n",
              "        vertical-align: middle;\n",
              "    }\n",
              "\n",
              "    .dataframe tbody tr th {\n",
              "        vertical-align: top;\n",
              "    }\n",
              "\n",
              "    .dataframe thead th {\n",
              "        text-align: right;\n",
              "    }\n",
              "</style>\n",
              "<table border=\"1\" class=\"dataframe\">\n",
              "  <thead>\n",
              "    <tr style=\"text-align: right;\">\n",
              "      <th></th>\n",
              "      <th>ypred</th>\n",
              "      <th>ytest</th>\n",
              "    </tr>\n",
              "  </thead>\n",
              "  <tbody>\n",
              "    <tr>\n",
              "      <th>0</th>\n",
              "      <td>tensor(228.)</td>\n",
              "      <td>tensor(276.6572)</td>\n",
              "    </tr>\n",
              "    <tr>\n",
              "      <th>1</th>\n",
              "      <td>tensor(126.)</td>\n",
              "      <td>tensor(121.8443)</td>\n",
              "    </tr>\n",
              "    <tr>\n",
              "      <th>2</th>\n",
              "      <td>tensor(1.)</td>\n",
              "      <td>tensor(2.1958)</td>\n",
              "    </tr>\n",
              "    <tr>\n",
              "      <th>3</th>\n",
              "      <td>tensor(236.)</td>\n",
              "      <td>tensor(84.1433)</td>\n",
              "    </tr>\n",
              "    <tr>\n",
              "      <th>4</th>\n",
              "      <td>tensor(703.)</td>\n",
              "      <td>tensor(438.3304)</td>\n",
              "    </tr>\n",
              "    <tr>\n",
              "      <th>5</th>\n",
              "      <td>tensor(10.)</td>\n",
              "      <td>tensor(2.1958)</td>\n",
              "    </tr>\n",
              "    <tr>\n",
              "      <th>6</th>\n",
              "      <td>tensor(333.)</td>\n",
              "      <td>tensor(160.7610)</td>\n",
              "    </tr>\n",
              "    <tr>\n",
              "      <th>7</th>\n",
              "      <td>tensor(234.)</td>\n",
              "      <td>tensor(123.3454)</td>\n",
              "    </tr>\n",
              "    <tr>\n",
              "      <th>8</th>\n",
              "      <td>tensor(176.)</td>\n",
              "      <td>tensor(251.8053)</td>\n",
              "    </tr>\n",
              "    <tr>\n",
              "      <th>9</th>\n",
              "      <td>tensor(362.)</td>\n",
              "      <td>tensor(173.2912)</td>\n",
              "    </tr>\n",
              "    <tr>\n",
              "      <th>10</th>\n",
              "      <td>tensor(459.)</td>\n",
              "      <td>tensor(333.8459)</td>\n",
              "    </tr>\n",
              "    <tr>\n",
              "      <th>11</th>\n",
              "      <td>tensor(60.)</td>\n",
              "      <td>tensor(132.0091)</td>\n",
              "    </tr>\n",
              "    <tr>\n",
              "      <th>12</th>\n",
              "      <td>tensor(230.)</td>\n",
              "      <td>tensor(261.5561)</td>\n",
              "    </tr>\n",
              "    <tr>\n",
              "      <th>13</th>\n",
              "      <td>tensor(358.)</td>\n",
              "      <td>tensor(176.6282)</td>\n",
              "    </tr>\n",
              "    <tr>\n",
              "      <th>14</th>\n",
              "      <td>tensor(347.)</td>\n",
              "      <td>tensor(234.2276)</td>\n",
              "    </tr>\n",
              "    <tr>\n",
              "      <th>15</th>\n",
              "      <td>tensor(78.)</td>\n",
              "      <td>tensor(210.0115)</td>\n",
              "    </tr>\n",
              "    <tr>\n",
              "      <th>16</th>\n",
              "      <td>tensor(78.)</td>\n",
              "      <td>tensor(58.3033)</td>\n",
              "    </tr>\n",
              "    <tr>\n",
              "      <th>17</th>\n",
              "      <td>tensor(114.)</td>\n",
              "      <td>tensor(153.0206)</td>\n",
              "    </tr>\n",
              "    <tr>\n",
              "      <th>18</th>\n",
              "      <td>tensor(513.)</td>\n",
              "      <td>tensor(306.7227)</td>\n",
              "    </tr>\n",
              "    <tr>\n",
              "      <th>19</th>\n",
              "      <td>tensor(208.)</td>\n",
              "      <td>tensor(263.4824)</td>\n",
              "    </tr>\n",
              "  </tbody>\n",
              "</table>\n",
              "</div>\n",
              "      <button class=\"colab-df-convert\" onclick=\"convertToInteractive('df-204eb10e-5b43-485a-b0bc-26f0bdf3e713')\"\n",
              "              title=\"Convert this dataframe to an interactive table.\"\n",
              "              style=\"display:none;\">\n",
              "        \n",
              "  <svg xmlns=\"http://www.w3.org/2000/svg\" height=\"24px\"viewBox=\"0 0 24 24\"\n",
              "       width=\"24px\">\n",
              "    <path d=\"M0 0h24v24H0V0z\" fill=\"none\"/>\n",
              "    <path d=\"M18.56 5.44l.94 2.06.94-2.06 2.06-.94-2.06-.94-.94-2.06-.94 2.06-2.06.94zm-11 1L8.5 8.5l.94-2.06 2.06-.94-2.06-.94L8.5 2.5l-.94 2.06-2.06.94zm10 10l.94 2.06.94-2.06 2.06-.94-2.06-.94-.94-2.06-.94 2.06-2.06.94z\"/><path d=\"M17.41 7.96l-1.37-1.37c-.4-.4-.92-.59-1.43-.59-.52 0-1.04.2-1.43.59L10.3 9.45l-7.72 7.72c-.78.78-.78 2.05 0 2.83L4 21.41c.39.39.9.59 1.41.59.51 0 1.02-.2 1.41-.59l7.78-7.78 2.81-2.81c.8-.78.8-2.07 0-2.86zM5.41 20L4 18.59l7.72-7.72 1.47 1.35L5.41 20z\"/>\n",
              "  </svg>\n",
              "      </button>\n",
              "      \n",
              "  <style>\n",
              "    .colab-df-container {\n",
              "      display:flex;\n",
              "      flex-wrap:wrap;\n",
              "      gap: 12px;\n",
              "    }\n",
              "\n",
              "    .colab-df-convert {\n",
              "      background-color: #E8F0FE;\n",
              "      border: none;\n",
              "      border-radius: 50%;\n",
              "      cursor: pointer;\n",
              "      display: none;\n",
              "      fill: #1967D2;\n",
              "      height: 32px;\n",
              "      padding: 0 0 0 0;\n",
              "      width: 32px;\n",
              "    }\n",
              "\n",
              "    .colab-df-convert:hover {\n",
              "      background-color: #E2EBFA;\n",
              "      box-shadow: 0px 1px 2px rgba(60, 64, 67, 0.3), 0px 1px 3px 1px rgba(60, 64, 67, 0.15);\n",
              "      fill: #174EA6;\n",
              "    }\n",
              "\n",
              "    [theme=dark] .colab-df-convert {\n",
              "      background-color: #3B4455;\n",
              "      fill: #D2E3FC;\n",
              "    }\n",
              "\n",
              "    [theme=dark] .colab-df-convert:hover {\n",
              "      background-color: #434B5C;\n",
              "      box-shadow: 0px 1px 3px 1px rgba(0, 0, 0, 0.15);\n",
              "      filter: drop-shadow(0px 1px 2px rgba(0, 0, 0, 0.3));\n",
              "      fill: #FFFFFF;\n",
              "    }\n",
              "  </style>\n",
              "\n",
              "      <script>\n",
              "        const buttonEl =\n",
              "          document.querySelector('#df-204eb10e-5b43-485a-b0bc-26f0bdf3e713 button.colab-df-convert');\n",
              "        buttonEl.style.display =\n",
              "          google.colab.kernel.accessAllowed ? 'block' : 'none';\n",
              "\n",
              "        async function convertToInteractive(key) {\n",
              "          const element = document.querySelector('#df-204eb10e-5b43-485a-b0bc-26f0bdf3e713');\n",
              "          const dataTable =\n",
              "            await google.colab.kernel.invokeFunction('convertToInteractive',\n",
              "                                                     [key], {});\n",
              "          if (!dataTable) return;\n",
              "\n",
              "          const docLinkHtml = 'Like what you see? Visit the ' +\n",
              "            '<a target=\"_blank\" href=https://colab.research.google.com/notebooks/data_table.ipynb>data table notebook</a>'\n",
              "            + ' to learn more about interactive tables.';\n",
              "          element.innerHTML = '';\n",
              "          dataTable['output_type'] = 'display_data';\n",
              "          await google.colab.output.renderOutput(dataTable, element);\n",
              "          const docLink = document.createElement('div');\n",
              "          docLink.innerHTML = docLinkHtml;\n",
              "          element.appendChild(docLink);\n",
              "        }\n",
              "      </script>\n",
              "    </div>\n",
              "  </div>\n",
              "  "
            ]
          },
          "metadata": {},
          "execution_count": 226
        }
      ]
    },
    {
      "cell_type": "code",
      "source": [],
      "metadata": {
        "id": "xvs-H45cIxLd"
      },
      "execution_count": 226,
      "outputs": []
    }
  ]
}